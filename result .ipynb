{
  "nbformat": 4,
  "nbformat_minor": 0,
  "metadata": {
    "colab": {
      "name": "coursework.ipynb",
      "provenance": []
    },
    "kernelspec": {
      "name": "python3",
      "display_name": "Python 3"
    },
    "language_info": {
      "name": "python"
    }
  },
  "cells": [
    {
      "cell_type": "code",
      "metadata": {
        "id": "_W9KKGks5x--"
      },
      "source": [
        "import torch\n",
        "import torchvision\n",
        "import torchvision.transforms as transforms\n",
        "from PIL import Image\n",
        "import numpy as np\n",
        "import os\n",
        "import csv\n",
        "import sys\n",
        "import cv2\n",
        "from google.colab.patches import cv2_imshow"
      ],
      "execution_count": null,
      "outputs": []
    },
    {
      "cell_type": "code",
      "metadata": {
        "colab": {
          "base_uri": "https://localhost:8080/",
          "height": 222
        },
        "id": "vA5ab7E_58vZ",
        "outputId": "799361d9-f4a5-4c80-c603-d6d30b223ca1"
      },
      "source": [
        "#readcsv\n",
        "transform = transforms.Compose(\n",
        "    [transforms.ToTensor(),\n",
        "     transforms.Normalize((0.5, 0.5, 0.5), (0.5, 0.5, 0.5))])\n",
        "\n",
        "p = r'train.csv'\n",
        "with open(p,encoding = 'utf-8') as f:\n",
        "    data = np.loadtxt(f,str,delimiter = \",\")"
      ],
      "execution_count": null,
      "outputs": [
        {
          "output_type": "error",
          "ename": "FileNotFoundError",
          "evalue": "ignored",
          "traceback": [
            "\u001b[0;31m---------------------------------------------------------------------------\u001b[0m",
            "\u001b[0;31mFileNotFoundError\u001b[0m                         Traceback (most recent call last)",
            "\u001b[0;32m<ipython-input-2-e844fa297173>\u001b[0m in \u001b[0;36m<module>\u001b[0;34m()\u001b[0m\n\u001b[1;32m      5\u001b[0m \u001b[0;34m\u001b[0m\u001b[0m\n\u001b[1;32m      6\u001b[0m \u001b[0mp\u001b[0m \u001b[0;34m=\u001b[0m \u001b[0;34mr'train.csv'\u001b[0m\u001b[0;34m\u001b[0m\u001b[0;34m\u001b[0m\u001b[0m\n\u001b[0;32m----> 7\u001b[0;31m \u001b[0;32mwith\u001b[0m \u001b[0mopen\u001b[0m\u001b[0;34m(\u001b[0m\u001b[0mp\u001b[0m\u001b[0;34m,\u001b[0m\u001b[0mencoding\u001b[0m \u001b[0;34m=\u001b[0m \u001b[0;34m'utf-8'\u001b[0m\u001b[0;34m)\u001b[0m \u001b[0;32mas\u001b[0m \u001b[0mf\u001b[0m\u001b[0;34m:\u001b[0m\u001b[0;34m\u001b[0m\u001b[0;34m\u001b[0m\u001b[0m\n\u001b[0m\u001b[1;32m      8\u001b[0m     \u001b[0mdata\u001b[0m \u001b[0;34m=\u001b[0m \u001b[0mnp\u001b[0m\u001b[0;34m.\u001b[0m\u001b[0mloadtxt\u001b[0m\u001b[0;34m(\u001b[0m\u001b[0mf\u001b[0m\u001b[0;34m,\u001b[0m\u001b[0mstr\u001b[0m\u001b[0;34m,\u001b[0m\u001b[0mdelimiter\u001b[0m \u001b[0;34m=\u001b[0m \u001b[0;34m\",\"\u001b[0m\u001b[0;34m)\u001b[0m\u001b[0;34m\u001b[0m\u001b[0;34m\u001b[0m\u001b[0m\n",
            "\u001b[0;31mFileNotFoundError\u001b[0m: [Errno 2] No such file or directory: 'train.csv'"
          ]
        }
      ]
    },
    {
      "cell_type": "code",
      "metadata": {
        "id": "ODm82i2ZwqTc"
      },
      "source": [
        "#load image\n",
        "imgs = []\n",
        "def read_directory(directory_name):\n",
        "    for filename in path_list:\n",
        "        img = mpimg.imread(directory_name + \"/\" + filename)\n",
        "        imgs.append(img)\n",
        "read_directory(\"train\")\n"
      ],
      "execution_count": null,
      "outputs": []
    },
    {
      "cell_type": "code",
      "metadata": {
        "colab": {
          "base_uri": "https://localhost:8080/"
        },
        "id": "ihWw4nFk6wUq",
        "outputId": "191fd107-b89d-466d-d524-3f679d9aa704"
      },
      "source": [
        "path = 'train'\n",
        " \n",
        "path_list = os.listdir(path)\n",
        " \n",
        "path_list.sort(key=lambda x:int(x[:-4]))\n",
        " \n",
        "print(path_list)"
      ],
      "execution_count": null,
      "outputs": [
        {
          "output_type": "stream",
          "text": [
            "['1.png', '2.png', '3.png', '4.png', '5.png', '6.png', '7.png', '8.png', '9.png', '10.png', '11.png', '12.png', '13.png', '14.png', '15.png', '16.png', '17.png', '18.png', '19.png', '20.png', '21.png', '22.png', '23.png', '24.png', '25.png', '26.png', '27.png', '28.png', '29.png', '30.png', '31.png', '32.png', '33.png', '34.png', '35.png', '36.png', '37.png', '38.png', '39.png', '40.png', '41.png', '42.png', '43.png', '44.png', '45.png', '46.png', '47.png', '48.png', '49.png', '50.png', '51.png', '52.png', '53.png', '54.png', '55.png', '56.png', '57.png', '58.png', '59.png', '60.png', '61.png', '62.png', '63.png', '64.png', '65.png', '66.png', '67.png', '68.png', '69.png', '70.png', '71.png', '72.png', '73.png', '74.png', '75.png', '76.png', '77.png', '78.png', '79.png', '80.png', '81.png', '82.png', '83.png', '84.png', '85.png', '86.png', '87.png', '88.png', '89.png', '90.png', '91.png', '92.png', '93.png', '94.png', '95.png', '96.png', '97.png', '98.png', '99.png', '100.png', '101.png', '102.png', '103.png', '104.png', '105.png', '106.png', '107.png', '108.png', '109.png', '110.png', '111.png', '112.png', '113.png', '114.png', '115.png', '116.png', '117.png', '118.png', '119.png', '120.png', '121.png', '122.png', '123.png', '124.png', '125.png', '126.png', '127.png', '128.png', '129.png', '130.png', '131.png', '132.png', '133.png', '134.png', '135.png', '136.png', '137.png', '138.png', '139.png', '140.png', '141.png', '142.png', '143.png', '144.png', '145.png', '146.png', '147.png', '148.png', '149.png', '150.png', '151.png', '152.png', '153.png', '154.png', '155.png', '156.png', '157.png', '158.png', '159.png', '160.png', '161.png', '162.png', '163.png', '164.png', '165.png', '166.png', '167.png', '168.png', '169.png', '170.png', '171.png', '172.png', '173.png', '174.png', '175.png', '176.png', '177.png', '178.png', '179.png', '180.png', '181.png', '182.png', '183.png', '184.png', '185.png', '186.png', '187.png', '188.png', '189.png', '190.png', '191.png', '192.png', '193.png', '194.png', '195.png', '196.png', '197.png', '198.png', '199.png', '200.png', '201.png', '202.png', '203.png', '204.png', '205.png', '206.png', '207.png', '208.png', '209.png', '210.png', '211.png', '212.png', '213.png', '214.png', '215.png', '216.png', '217.png', '218.png', '219.png', '220.png', '221.png', '222.png', '223.png', '224.png', '225.png', '226.png', '227.png', '228.png', '229.png', '230.png', '231.png', '232.png', '233.png', '234.png', '235.png', '236.png', '237.png', '238.png', '239.png', '240.png', '241.png', '242.png', '243.png', '244.png', '245.png', '246.png', '247.png', '248.png', '249.png', '250.png', '251.png', '252.png', '253.png', '254.png', '255.png', '256.png', '257.png', '258.png', '259.png', '260.png', '261.png', '262.png', '263.png', '264.png', '265.png', '266.png', '267.png', '268.png', '269.png', '270.png', '271.png', '272.png', '273.png', '274.png', '275.png', '276.png', '277.png', '278.png', '279.png', '280.png', '281.png', '282.png', '283.png', '284.png', '285.png', '286.png', '287.png', '288.png', '289.png', '290.png', '291.png', '292.png', '293.png', '294.png', '295.png', '296.png', '297.png', '298.png', '299.png', '300.png', '301.png', '302.png', '303.png', '304.png', '305.png', '306.png', '307.png', '308.png', '309.png', '310.png', '311.png', '312.png', '313.png', '314.png', '315.png', '316.png', '317.png', '318.png', '319.png', '320.png', '321.png', '322.png', '323.png', '324.png', '325.png', '326.png', '327.png', '328.png', '329.png', '330.png', '331.png', '332.png', '333.png', '334.png', '335.png', '336.png', '337.png', '338.png', '339.png', '340.png', '341.png', '342.png', '343.png', '344.png', '345.png', '346.png', '347.png', '348.png', '349.png', '350.png', '351.png', '352.png', '353.png', '354.png', '355.png', '356.png', '357.png', '358.png', '359.png', '360.png', '361.png', '362.png', '363.png', '364.png', '365.png', '366.png', '367.png', '368.png', '369.png', '370.png', '371.png', '372.png', '373.png', '374.png', '375.png', '376.png', '377.png', '378.png', '379.png', '380.png', '381.png', '382.png', '383.png', '384.png', '385.png', '386.png', '387.png', '388.png', '389.png', '390.png', '391.png', '392.png', '393.png', '394.png', '395.png', '396.png', '397.png', '398.png', '399.png', '400.png', '401.png', '402.png', '403.png', '404.png', '405.png', '406.png', '407.png', '408.png', '409.png', '410.png', '411.png', '412.png', '413.png', '414.png', '415.png', '416.png', '417.png', '418.png', '419.png', '420.png', '421.png', '422.png', '423.png', '424.png', '425.png', '426.png', '427.png', '428.png', '429.png', '430.png', '431.png', '432.png', '433.png', '434.png', '435.png', '436.png', '437.png', '438.png', '439.png', '440.png', '441.png', '442.png', '443.png', '444.png', '445.png', '446.png', '447.png', '448.png', '449.png', '450.png', '451.png', '452.png', '453.png', '454.png', '455.png', '456.png', '457.png', '458.png', '459.png', '460.png', '461.png', '462.png', '463.png', '464.png', '465.png', '466.png', '467.png', '468.png', '469.png', '470.png', '471.png', '472.png', '473.png', '474.png', '475.png', '476.png', '477.png', '478.png', '479.png', '480.png', '481.png', '482.png', '483.png', '484.png', '485.png', '486.png', '487.png', '488.png', '489.png', '490.png', '491.png', '492.png', '493.png', '494.png', '495.png', '496.png', '497.png', '498.png', '499.png', '500.png', '501.png', '502.png', '503.png', '504.png', '505.png', '506.png', '507.png', '508.png', '509.png', '510.png', '511.png', '512.png', '513.png', '514.png', '515.png', '516.png', '517.png', '518.png', '519.png', '520.png', '521.png', '522.png', '523.png', '524.png', '525.png', '526.png', '527.png', '528.png', '529.png', '530.png', '531.png', '532.png', '533.png', '534.png', '535.png', '536.png', '537.png', '538.png', '539.png', '540.png', '541.png', '542.png', '543.png', '544.png', '545.png', '546.png', '547.png', '548.png', '549.png', '550.png', '551.png', '552.png', '553.png', '554.png', '555.png', '556.png', '557.png', '558.png', '559.png', '560.png', '561.png', '562.png', '563.png', '564.png', '565.png', '566.png', '567.png', '568.png', '569.png', '570.png', '571.png', '572.png', '573.png', '574.png', '575.png', '576.png', '577.png', '578.png', '579.png', '580.png', '581.png', '582.png', '583.png', '584.png', '585.png', '586.png', '587.png', '588.png', '589.png', '590.png', '591.png', '592.png', '593.png', '594.png', '595.png', '596.png', '597.png', '598.png', '599.png', '600.png', '601.png', '602.png', '603.png', '604.png', '605.png', '606.png', '607.png', '608.png', '609.png', '610.png', '611.png', '612.png', '613.png', '614.png', '615.png', '616.png', '617.png', '618.png', '619.png', '620.png', '621.png', '622.png', '623.png', '624.png', '625.png', '626.png', '627.png', '628.png', '629.png', '630.png', '631.png', '632.png', '633.png', '634.png', '635.png', '636.png', '637.png', '638.png', '639.png', '640.png', '641.png', '642.png', '643.png', '644.png', '645.png', '646.png', '647.png', '648.png', '649.png', '650.png', '651.png', '652.png', '653.png', '654.png', '655.png', '656.png', '657.png', '658.png', '659.png', '660.png', '661.png', '662.png', '663.png', '664.png', '665.png', '666.png', '667.png', '668.png', '669.png', '670.png', '671.png', '672.png', '673.png', '674.png', '675.png', '676.png', '677.png', '678.png', '679.png', '680.png', '681.png', '682.png', '683.png', '684.png', '685.png', '686.png', '687.png', '688.png', '689.png', '690.png', '691.png', '692.png', '693.png', '694.png', '695.png', '696.png', '697.png', '698.png', '699.png', '700.png', '701.png', '702.png', '703.png', '704.png', '705.png', '706.png', '707.png', '708.png', '709.png', '710.png', '711.png', '712.png', '713.png', '714.png', '715.png', '716.png', '717.png', '718.png', '719.png', '720.png', '721.png', '722.png', '723.png', '724.png', '725.png', '726.png', '727.png', '728.png', '729.png', '730.png', '731.png', '732.png', '733.png', '734.png', '735.png', '736.png', '737.png', '738.png', '739.png', '740.png', '741.png', '742.png', '743.png', '744.png', '745.png', '746.png', '747.png', '748.png', '749.png', '750.png', '751.png', '752.png', '753.png', '754.png', '755.png', '756.png', '757.png', '758.png', '759.png', '760.png', '761.png', '762.png', '763.png', '764.png', '765.png', '766.png', '767.png', '768.png', '769.png', '770.png', '771.png', '772.png', '773.png', '774.png', '775.png', '776.png', '777.png', '778.png', '779.png', '780.png', '781.png', '782.png', '783.png', '784.png', '785.png', '786.png', '787.png', '788.png', '789.png', '790.png', '791.png', '792.png', '793.png', '794.png', '795.png', '796.png', '797.png', '798.png', '799.png', '800.png', '801.png', '802.png', '803.png', '804.png', '805.png', '806.png', '807.png', '808.png', '809.png', '810.png', '811.png', '812.png', '813.png', '814.png', '815.png', '816.png', '817.png', '818.png', '819.png', '820.png', '821.png', '822.png', '823.png', '824.png', '825.png', '826.png', '827.png', '828.png', '829.png', '830.png', '831.png', '832.png', '833.png', '834.png', '835.png', '836.png', '837.png', '838.png', '839.png', '840.png', '841.png', '842.png', '843.png', '844.png', '845.png', '846.png', '847.png', '848.png', '849.png', '850.png', '851.png', '852.png', '853.png', '854.png', '855.png', '856.png', '857.png', '858.png', '859.png', '860.png', '861.png', '862.png', '863.png', '864.png', '865.png', '866.png', '867.png', '868.png', '869.png', '870.png', '871.png', '872.png', '873.png', '874.png', '875.png', '876.png', '877.png', '878.png', '879.png', '880.png', '881.png', '882.png', '883.png', '884.png', '885.png', '886.png', '887.png', '888.png', '889.png', '890.png', '891.png', '892.png', '893.png', '894.png', '895.png', '896.png', '897.png', '898.png', '899.png', '900.png', '901.png', '902.png', '903.png', '904.png', '905.png', '906.png', '907.png', '908.png', '909.png', '910.png', '911.png', '912.png', '913.png', '914.png', '915.png', '916.png', '917.png', '918.png', '919.png', '920.png', '921.png', '922.png', '923.png', '924.png', '925.png', '926.png', '927.png', '928.png', '929.png', '930.png', '931.png', '932.png', '933.png', '934.png', '935.png', '936.png', '937.png', '938.png', '939.png', '940.png', '941.png', '942.png', '943.png', '944.png', '945.png', '946.png', '947.png', '948.png', '949.png', '950.png', '951.png', '952.png', '953.png', '954.png', '955.png', '956.png', '957.png', '958.png', '959.png', '960.png', '961.png', '962.png', '963.png', '964.png', '965.png', '966.png', '967.png', '968.png', '969.png', '970.png', '971.png', '972.png', '973.png', '974.png', '975.png', '976.png', '977.png', '978.png', '979.png', '980.png', '981.png', '982.png', '983.png', '984.png', '985.png', '986.png', '987.png', '988.png', '989.png', '990.png', '991.png', '992.png', '993.png', '994.png', '995.png', '996.png', '997.png', '998.png', '999.png', '1000.png', '1001.png', '1002.png', '1003.png', '1004.png', '1005.png', '1006.png', '1007.png', '1008.png', '1009.png', '1010.png', '1011.png', '1012.png', '1013.png', '1014.png', '1015.png', '1016.png', '1017.png', '1018.png', '1019.png', '1020.png', '1021.png', '1022.png', '1023.png', '1024.png', '1025.png', '1026.png', '1027.png', '1028.png', '1029.png', '1030.png', '1031.png', '1032.png', '1033.png', '1034.png', '1035.png', '1036.png', '1037.png', '1038.png', '1039.png', '1040.png', '1041.png', '1042.png', '1043.png', '1044.png', '1045.png', '1046.png', '1047.png', '1048.png', '1049.png', '1050.png', '1051.png', '1052.png', '1053.png', '1054.png', '1055.png', '1056.png', '1057.png', '1058.png', '1059.png', '1060.png', '1061.png', '1062.png', '1063.png', '1064.png', '1065.png', '1066.png', '1067.png', '1068.png', '1069.png', '1070.png', '1071.png', '1072.png', '1073.png', '1074.png', '1075.png', '1076.png', '1077.png', '1078.png', '1079.png', '1080.png', '1081.png', '1082.png', '1083.png', '1084.png', '1085.png', '1086.png', '1087.png', '1088.png', '1089.png', '1090.png', '1091.png', '1092.png', '1093.png', '1094.png', '1095.png', '1096.png', '1097.png', '1098.png', '1099.png', '1100.png', '1101.png', '1102.png', '1103.png', '1104.png', '1105.png', '1106.png', '1107.png', '1108.png', '1109.png', '1110.png', '1111.png', '1112.png', '1113.png', '1114.png', '1115.png', '1116.png', '1117.png', '1118.png', '1119.png', '1120.png', '1121.png', '1122.png', '1123.png', '1124.png', '1125.png', '1126.png', '1127.png', '1128.png', '1129.png', '1130.png', '1131.png', '1132.png', '1133.png', '1134.png', '1135.png', '1136.png', '1137.png', '1138.png', '1139.png', '1140.png', '1141.png', '1142.png', '1143.png', '1144.png', '1145.png', '1146.png', '1147.png', '1148.png', '1149.png', '1150.png', '1151.png', '1152.png', '1153.png', '1154.png', '1155.png', '1156.png', '1157.png', '1158.png', '1159.png', '1160.png', '1161.png', '1162.png', '1163.png', '1164.png', '1165.png', '1166.png', '1167.png', '1168.png', '1169.png', '1170.png', '1171.png', '1172.png', '1173.png', '1174.png', '1175.png', '1176.png', '1177.png', '1178.png', '1179.png', '1180.png', '1181.png', '1182.png', '1183.png', '1184.png', '1185.png', '1186.png', '1187.png', '1188.png', '1189.png', '1190.png', '1191.png', '1192.png', '1193.png', '1194.png', '1195.png', '1196.png', '1197.png', '1198.png', '1199.png', '1200.png', '1201.png', '1202.png', '1203.png', '1204.png', '1205.png', '1206.png', '1207.png', '1208.png', '1209.png', '1210.png', '1211.png', '1212.png', '1213.png', '1214.png', '1215.png', '1216.png', '1217.png', '1218.png', '1219.png', '1220.png', '1221.png', '1222.png', '1223.png', '1224.png', '1225.png', '1226.png', '1227.png', '1228.png', '1229.png', '1230.png', '1231.png', '1232.png', '1233.png', '1234.png', '1235.png', '1236.png', '1237.png', '1238.png', '1239.png', '1240.png', '1241.png', '1242.png', '1243.png', '1244.png', '1245.png', '1246.png', '1247.png', '1248.png', '1249.png', '1250.png', '1251.png', '1252.png', '1253.png', '1254.png', '1255.png', '1256.png', '1257.png', '1258.png', '1259.png', '1260.png', '1261.png', '1262.png', '1263.png', '1264.png', '1265.png', '1266.png', '1267.png', '1268.png', '1269.png', '1270.png', '1271.png', '1272.png', '1273.png', '1274.png', '1275.png', '1276.png', '1277.png', '1278.png', '1279.png', '1280.png', '1281.png', '1282.png', '1283.png', '1284.png', '1285.png', '1286.png', '1287.png', '1288.png', '1289.png', '1290.png', '1291.png', '1292.png', '1293.png', '1294.png', '1295.png', '1296.png', '1297.png', '1298.png', '1299.png', '1300.png', '1301.png', '1302.png', '1303.png', '1304.png', '1305.png', '1306.png', '1307.png', '1308.png', '1309.png', '1310.png', '1311.png', '1312.png', '1313.png', '1314.png', '1315.png', '1316.png', '1317.png', '1318.png', '1319.png', '1320.png', '1321.png', '1322.png', '1323.png', '1324.png', '1325.png', '1326.png', '1327.png', '1328.png', '1329.png', '1330.png', '1331.png', '1332.png', '1333.png', '1334.png', '1335.png', '1336.png', '1337.png', '1338.png', '1339.png', '1340.png', '1341.png', '1342.png', '1343.png', '1344.png', '1345.png', '1346.png', '1347.png', '1348.png', '1349.png', '1350.png', '1351.png', '1352.png', '1353.png', '1354.png', '1355.png', '1356.png', '1357.png', '1358.png', '1359.png', '1360.png', '1361.png', '1362.png', '1363.png', '1364.png', '1365.png', '1366.png', '1367.png', '1368.png', '1369.png', '1370.png', '1371.png', '1372.png', '1373.png', '1374.png', '1375.png', '1376.png', '1377.png', '1378.png', '1379.png', '1380.png', '1381.png', '1382.png', '1383.png', '1384.png', '1385.png', '1386.png', '1387.png', '1388.png', '1389.png', '1390.png', '1391.png', '1392.png', '1393.png', '1394.png', '1395.png', '1396.png', '1397.png', '1398.png', '1399.png', '1400.png', '1401.png', '1402.png', '1403.png', '1404.png', '1405.png', '1406.png', '1407.png', '1408.png', '1409.png', '1410.png', '1411.png', '1412.png', '1413.png', '1414.png', '1415.png', '1416.png', '1417.png', '1418.png', '1419.png', '1420.png', '1421.png', '1422.png', '1423.png', '1424.png', '1425.png', '1426.png', '1427.png', '1428.png', '1429.png', '1430.png', '1431.png', '1432.png', '1433.png', '1434.png', '1435.png', '1436.png', '1437.png', '1438.png', '1439.png', '1440.png', '1441.png', '1442.png', '1443.png', '1444.png', '1445.png', '1446.png', '1447.png', '1448.png', '1449.png', '1450.png', '1451.png', '1452.png', '1453.png', '1454.png', '1455.png', '1456.png', '1457.png', '1458.png', '1459.png', '1460.png', '1461.png', '1462.png', '1463.png', '1464.png', '1465.png', '1466.png', '1467.png', '1468.png', '1469.png', '1470.png', '1471.png', '1472.png', '1473.png', '1474.png', '1475.png', '1476.png', '1477.png', '1478.png', '1479.png', '1480.png', '1481.png', '1482.png', '1483.png', '1484.png', '1485.png', '1486.png', '1487.png', '1488.png', '1489.png', '1490.png', '1491.png', '1492.png', '1493.png', '1494.png', '1495.png', '1496.png', '1497.png', '1498.png', '1499.png', '1500.png', '1501.png', '1502.png', '1503.png', '1504.png', '1505.png', '1506.png', '1507.png', '1508.png', '1509.png', '1510.png', '1511.png', '1512.png', '1513.png', '1514.png', '1515.png', '1516.png', '1517.png', '1518.png', '1519.png', '1520.png', '1521.png', '1522.png', '1523.png', '1524.png', '1525.png', '1526.png', '1527.png', '1528.png', '1529.png', '1530.png', '1531.png', '1532.png', '1533.png', '1534.png', '1535.png', '1536.png', '1537.png', '1538.png', '1539.png', '1540.png', '1541.png', '1542.png', '1543.png', '1544.png', '1545.png', '1546.png', '1547.png', '1548.png', '1549.png', '1550.png', '1551.png', '1552.png', '1553.png', '1554.png', '1555.png', '1556.png', '1557.png', '1558.png', '1559.png', '1560.png', '1561.png', '1562.png', '1563.png', '1564.png', '1565.png', '1566.png', '1567.png', '1568.png', '1569.png', '1570.png', '1571.png', '1572.png', '1573.png', '1574.png', '1575.png', '1576.png', '1577.png', '1578.png', '1579.png', '1580.png', '1581.png', '1582.png', '1583.png', '1584.png', '1585.png', '1586.png', '1587.png', '1588.png', '1589.png', '1590.png', '1591.png', '1592.png', '1593.png', '1594.png', '1595.png', '1596.png', '1597.png', '1598.png', '1599.png', '1600.png', '1601.png', '1602.png', '1603.png', '1604.png', '1605.png', '1606.png', '1607.png', '1608.png', '1609.png', '1610.png', '1611.png', '1612.png', '1613.png', '1614.png', '1615.png', '1616.png', '1617.png', '1618.png', '1619.png', '1620.png', '1621.png', '1622.png', '1623.png', '1624.png', '1625.png', '1626.png', '1627.png', '1628.png', '1629.png', '1630.png', '1631.png', '1632.png', '1633.png', '1634.png', '1635.png', '1636.png', '1637.png', '1638.png', '1639.png', '1640.png', '1641.png', '1642.png', '1643.png', '1644.png', '1645.png', '1646.png', '1647.png', '1648.png', '1649.png', '1650.png', '1651.png', '1652.png', '1653.png', '1654.png', '1655.png', '1656.png', '1657.png', '1658.png', '1659.png', '1660.png', '1661.png', '1662.png', '1663.png', '1664.png', '1665.png', '1666.png', '1667.png', '1668.png', '1669.png', '1670.png', '1671.png', '1672.png', '1673.png', '1674.png', '1675.png', '1676.png', '1677.png', '1678.png', '1679.png', '1680.png', '1681.png', '1682.png', '1683.png', '1684.png', '1685.png', '1686.png', '1687.png', '1688.png', '1689.png', '1690.png', '1691.png', '1692.png', '1693.png', '1694.png', '1695.png', '1696.png', '1697.png', '1698.png', '1699.png', '1700.png', '1701.png', '1702.png', '1703.png', '1704.png', '1705.png', '1706.png', '1707.png', '1708.png', '1709.png', '1710.png', '1711.png', '1712.png', '1713.png', '1714.png', '1715.png', '1716.png', '1717.png', '1718.png', '1719.png', '1720.png', '1721.png', '1722.png', '1723.png', '1724.png', '1725.png', '1726.png', '1727.png', '1728.png', '1729.png', '1730.png', '1731.png', '1732.png', '1733.png', '1734.png', '1735.png', '1736.png', '1737.png', '1738.png', '1739.png', '1740.png', '1741.png', '1742.png', '1743.png', '1744.png', '1745.png', '1746.png', '1747.png', '1748.png', '1749.png', '1750.png', '1751.png', '1752.png', '1753.png', '1754.png', '1755.png', '1756.png', '1757.png', '1758.png', '1759.png', '1760.png', '1761.png', '1762.png', '1763.png', '1764.png', '1765.png', '1766.png', '1767.png', '1768.png', '1769.png', '1770.png', '1771.png', '1772.png', '1773.png', '1774.png', '1775.png', '1776.png', '1777.png', '1778.png', '1779.png', '1780.png', '1781.png', '1782.png', '1783.png', '1784.png', '1785.png', '1786.png', '1787.png', '1788.png', '1789.png', '1790.png', '1791.png', '1792.png', '1793.png', '1794.png', '1795.png', '1796.png', '1797.png', '1798.png', '1799.png', '1800.png', '1801.png', '1802.png', '1803.png', '1804.png', '1805.png', '1806.png', '1807.png', '1808.png', '1809.png', '1810.png', '1811.png', '1812.png', '1813.png', '1814.png', '1815.png', '1816.png', '1817.png', '1818.png', '1819.png', '1820.png', '1821.png', '1822.png', '1823.png', '1824.png', '1825.png', '1826.png', '1827.png', '1828.png', '1829.png', '1830.png', '1831.png', '1832.png', '1833.png', '1834.png', '1835.png', '1836.png', '1837.png', '1838.png', '1839.png', '1840.png', '1841.png', '1842.png', '1843.png', '1844.png', '1845.png', '1846.png', '1847.png', '1848.png', '1849.png', '1850.png', '1851.png', '1852.png', '1853.png', '1854.png', '1855.png', '1856.png', '1857.png', '1858.png', '1859.png', '1860.png', '1861.png', '1862.png', '1863.png', '1864.png', '1865.png', '1866.png', '1867.png', '1868.png', '1869.png', '1870.png', '1871.png', '1872.png', '1873.png', '1874.png', '1875.png', '1876.png', '1877.png', '1878.png', '1879.png', '1880.png', '1881.png', '1882.png', '1883.png', '1884.png', '1885.png', '1886.png', '1887.png', '1888.png', '1889.png', '1890.png', '1891.png', '1892.png', '1893.png', '1894.png', '1895.png', '1896.png', '1897.png', '1898.png', '1899.png', '1900.png', '1901.png', '1902.png', '1903.png', '1904.png', '1905.png', '1906.png', '1907.png', '1908.png', '1909.png', '1910.png', '1911.png', '1912.png', '1913.png', '1914.png', '1915.png', '1916.png', '1917.png', '1918.png', '1919.png', '1920.png', '1921.png', '1922.png', '1923.png', '1924.png', '1925.png', '1926.png', '1927.png', '1928.png', '1929.png', '1930.png', '1931.png', '1932.png', '1933.png', '1934.png', '1935.png', '1936.png', '1937.png', '1938.png', '1939.png', '1940.png', '1941.png', '1942.png', '1943.png', '1944.png', '1945.png', '1946.png', '1947.png', '1948.png', '1949.png', '1950.png', '1951.png', '1952.png', '1953.png', '1954.png', '1955.png', '1956.png', '1957.png', '1958.png', '1959.png', '1960.png', '1961.png', '1962.png', '1963.png', '1964.png', '1965.png', '1966.png', '1967.png', '1968.png', '1969.png', '1970.png', '1971.png', '1972.png', '1973.png', '1974.png', '1975.png', '1976.png', '1977.png', '1978.png', '1979.png', '1980.png', '1981.png', '1982.png', '1983.png', '1984.png', '1985.png', '1986.png', '1987.png', '1988.png', '1989.png', '1990.png', '1991.png', '1992.png', '1993.png', '1994.png', '1995.png', '1996.png', '1997.png', '1998.png', '1999.png', '2000.png', '2001.png', '2002.png', '2003.png', '2004.png', '2005.png', '2006.png', '2007.png', '2008.png', '2009.png', '2010.png', '2011.png', '2012.png', '2013.png', '2014.png', '2015.png', '2016.png', '2017.png', '2018.png', '2019.png', '2020.png', '2021.png', '2022.png', '2023.png', '2024.png', '2025.png', '2026.png', '2027.png', '2028.png', '2029.png', '2030.png', '2031.png', '2032.png', '2033.png', '2034.png', '2035.png', '2036.png', '2037.png', '2038.png', '2039.png', '2040.png', '2041.png', '2042.png', '2043.png', '2044.png', '2045.png', '2046.png', '2047.png', '2048.png', '2049.png', '2050.png', '2051.png', '2052.png', '2053.png', '2054.png', '2055.png', '2056.png', '2057.png', '2058.png', '2059.png', '2060.png', '2061.png', '2062.png', '2063.png', '2064.png', '2065.png', '2066.png', '2067.png', '2068.png', '2069.png', '2070.png', '2071.png', '2072.png', '2073.png', '2074.png', '2075.png', '2076.png', '2077.png', '2078.png', '2079.png', '2080.png', '2081.png', '2082.png', '2083.png', '2084.png', '2085.png', '2086.png', '2087.png', '2088.png', '2089.png', '2090.png', '2091.png', '2092.png', '2093.png', '2094.png', '2095.png', '2096.png', '2097.png', '2098.png', '2099.png', '2100.png', '2101.png', '2102.png', '2103.png', '2104.png', '2105.png', '2106.png', '2107.png', '2108.png', '2109.png', '2110.png', '2111.png', '2112.png', '2113.png', '2114.png', '2115.png', '2116.png', '2117.png', '2118.png', '2119.png', '2120.png', '2121.png', '2122.png', '2123.png', '2124.png', '2125.png', '2126.png', '2127.png', '2128.png', '2129.png', '2130.png', '2131.png', '2132.png', '2133.png', '2134.png', '2135.png', '2136.png', '2137.png', '2138.png', '2139.png', '2140.png', '2141.png', '2142.png', '2143.png', '2144.png', '2145.png', '2146.png', '2147.png', '2148.png', '2149.png', '2150.png', '2151.png', '2152.png', '2153.png', '2154.png', '2155.png', '2156.png', '2157.png', '2158.png', '2159.png', '2160.png', '2161.png', '2162.png', '2163.png', '2164.png', '2165.png', '2166.png', '2167.png', '2168.png', '2169.png', '2170.png', '2171.png', '2172.png', '2173.png', '2174.png', '2175.png', '2176.png', '2177.png', '2178.png', '2179.png', '2180.png', '2181.png', '2182.png', '2183.png', '2184.png', '2185.png', '2186.png', '2187.png', '2188.png', '2189.png', '2190.png']\n"
          ],
          "name": "stdout"
        }
      ]
    },
    {
      "cell_type": "code",
      "metadata": {
        "colab": {
          "base_uri": "https://localhost:8080/"
        },
        "id": "WiAlG4ld0K0m",
        "outputId": "8a970aa9-fc8f-4bb0-dd39-8374ecd650ae"
      },
      "source": [
        "\n",
        "imgs = np.array(imgs)\n",
        "print(np.shape(imgs))\n",
        "np.save(\"imgs.npy\",imgs)"
      ],
      "execution_count": null,
      "outputs": [
        {
          "output_type": "stream",
          "text": [
            "(2190, 64, 64, 3)\n"
          ],
          "name": "stdout"
        }
      ]
    },
    {
      "cell_type": "code",
      "metadata": {
        "colab": {
          "base_uri": "https://localhost:8080/",
          "height": 285
        },
        "id": "yePcyDZz3FIO",
        "outputId": "0f216ab5-6e94-4744-cfd1-8eef15ee19c6"
      },
      "source": [
        "from PIL import Image\n",
        "from matplotlib import pyplot as plt\n",
        "import matplotlib.pyplot as plt # plt 用于显示图片\n",
        "import matplotlib.image as mpimg # mpimg 用于读取图片\n",
        "import numpy as np\n",
        "plt.imshow(imgs[0,:,:,:])"
      ],
      "execution_count": null,
      "outputs": [
        {
          "output_type": "execute_result",
          "data": {
            "text/plain": [
              "<matplotlib.image.AxesImage at 0x7fb5f05ad410>"
            ]
          },
          "metadata": {
            "tags": []
          },
          "execution_count": 93
        },
        {
          "output_type": "display_data",
          "data": {
            "image/png": "[encoded data removed]",
            "text/plain": [
              "<Figure size 432x288 with 1 Axes>"
            ]
          },
          "metadata": {
            "tags": [],
            "needs_background": "light"
          }
        }
      ]
    },
    {
      "cell_type": "code",
      "metadata": {
        "id": "9sLIUlVpRx7e"
      },
      "source": [
        "#sample cnn\n",
        "import torch.nn as nn\n",
        "import torch.nn.functional as F\n",
        "class Net(nn.Module):\n",
        "  def __init__(self):\n",
        "      super().__init__()\n",
        "      self.conv1 = nn.Conv2d(3, 10, 5)\n",
        "      self.pool = nn.MaxPool2d(2, 2)\n",
        "      self.conv2 = nn.Conv2d(6, 20, 5)\n",
        "      self.fc1 = nn.Linear(16 * 8 * 8, 120)\n",
        "      self.fc2 = nn.Linear(120, 84)\n",
        "      self.fc3 = nn.Linear(84, 10)\n",
        "  def forward(self, x):\n",
        "      x = self.pool(F.relu(self.conv1(x)))#30*30*6\n",
        "      x = self.pool(F.relu(self.conv2(x)))#8*8*16\n",
        "      x = torch.flatten(x, 1) # flatten all dimensions except batch\n",
        "      x = F.relu(self.fc1(x))\n",
        "      x = F.relu(self.fc2(x))\n",
        "      x = self.fc3(x)\n",
        "      return x\n",
        "\n",
        "net = Net()"
      ],
      "execution_count": null,
      "outputs": []
    },
    {
      "cell_type": "code",
      "metadata": {
        "id": "IWSiN3Jh2RXg"
      },
      "source": [
        "#training\n",
        "for epoch in range(2):  # loop over the dataset multiple times\n",
        "\n",
        "  running_loss = 0.0\n",
        "  for i, data in enumerate(trainloader, 0):\n",
        "    # get the inputs; data is a list of [inputs, labels]\n",
        "    inputs, labels = data\n",
        "\n",
        "    # zero the parameter gradients\n",
        "    optimizer.zero_grad()\n",
        "\n",
        "    # forward + backward + optimize\n",
        "    outputs = net(inputs)\n",
        "    loss = criterion(outputs, labels)\n",
        "    loss.backward()\n",
        "    optimizer.step()\n",
        "\n",
        "    # print statistics\n",
        "    running_loss += loss.item()\n",
        "    if i % 2000 == 1999:    # print every 2000 mini-batches\n",
        "      print('[%d, %5d] loss: %.3f' %\n",
        "        (epoch + 1, i + 1, running_loss / 2000))\n",
        "      running_loss = 0.0\n",
        "\n",
        "print('Finished Training')"
      ],
      "execution_count": null,
      "outputs": []
    },
    {
      "cell_type": "code",
      "metadata": {
        "id": "imaXG5joTMh5"
      },
      "source": [
        "#get data from onedrive\n",
        "from google.colab import drive\n",
        "drive.mount('/content/drive')\n",
        "path = \"/content/drive/My Drive/ColabNotebooks\"\n",
        "\n",
        "os.chdir(path)\n",
        "os.listdir(path)"
      ],
      "execution_count": null,
      "outputs": []
    },
    {
      "cell_type": "code",
      "metadata": {
        "id": "lp9DqK2_AF9R"
      },
      "source": [
        "network"
      ],
      "execution_count": null,
      "outputs": []
    },
    {
      "cell_type": "code",
      "metadata": {
        "id": "vi3vcqxPeyhE"
      },
      "source": [
        "#import\n",
        "import torch\n",
        "import torchvision\n",
        "import torchvision.transforms as transforms\n",
        "from PIL import Image\n",
        "import numpy as np\n",
        "import os\n",
        "import csv\n",
        "import sys\n",
        "import cv2\n",
        "from google.colab.patches import cv2_imshow\n",
        "import torch.nn as nn\n",
        "import torch.nn.functional as F\n",
        "from matplotlib import pyplot as plt\n",
        "import matplotlib.pyplot as plt # plt 用于显示图片\n",
        "import matplotlib.image as mpimg"
      ],
      "execution_count": null,
      "outputs": []
    },
    {
      "cell_type": "code",
      "metadata": {
        "colab": {
          "base_uri": "https://localhost:8080/"
        },
        "id": "3yQX2Z74fJHl",
        "outputId": "f741b855-5134-4a93-8b18-62162f8e24e1"
      },
      "source": [
        "#get label from csv\n",
        "p = r'train.csv'\n",
        "with open(p,encoding = 'utf-8') as f:\n",
        "    data = np.loadtxt(f,str,delimiter = \",\")\n",
        "print(data[1::,1])\n",
        "labels = data[1::,1]\n",
        "np.place(labels, labels == ' Normal', 0)\n",
        "np.place(labels, labels == ' Cancer', 1)\n",
        "np.place(labels, labels == ' Immune', 2)\n",
        "np.place(labels, labels == ' Connective', 3)\n",
        "print(labels)"
      ],
      "execution_count": null,
      "outputs": [
        {
          "output_type": "stream",
          "text": [
            "[' Connective' ' Connective' ' Connective' ... ' Connective' ' Connective'\n",
            " ' Immune']\n",
            "['3' '3' '3' ... '3' '3' '2']\n"
          ],
          "name": "stdout"
        }
      ]
    },
    {
      "cell_type": "code",
      "metadata": {
        "colab": {
          "base_uri": "https://localhost:8080/"
        },
        "id": "eO2z105YgLXR",
        "outputId": "da34b966-52ee-4ddd-c1ea-fbd2b13795b4"
      },
      "source": [
        "#get path list\n",
        "path = 'train'\n",
        "path_list = os.listdir(path)\n",
        "path_list.sort(key=lambda x:int(x[:-4]))\n",
        "print(path_list)\n",
        "#load image\n",
        "imgs = []\n",
        "def read_directory(directory_name):\n",
        "    for filename in path_list:\n",
        "        img = mpimg.imread(directory_name + \"/\" + filename)\n",
        "        imgs.append(img)\n",
        "read_directory(\"train\")\n"
      ],
      "execution_count": null,
      "outputs": [
        {
          "output_type": "stream",
          "text": [
            "['1.png', '2.png', '3.png', '4.png', '5.png', '6.png', '7.png', '8.png', '9.png', '10.png', '11.png', '12.png', '13.png', '14.png', '15.png', '16.png', '17.png', '18.png', '19.png', '20.png', '21.png', '22.png', '23.png', '24.png', '25.png', '26.png', '27.png', '28.png', '29.png', '30.png', '31.png', '32.png', '33.png', '34.png', '35.png', '36.png', '37.png', '38.png', '39.png', '40.png', '41.png', '42.png', '43.png', '44.png', '45.png', '46.png', '47.png', '48.png', '49.png', '50.png', '51.png', '52.png', '53.png', '54.png', '55.png', '56.png', '57.png', '58.png', '59.png', '60.png', '61.png', '62.png', '63.png', '64.png', '65.png', '66.png', '67.png', '68.png', '69.png', '70.png', '71.png', '72.png', '73.png', '74.png', '75.png', '76.png', '77.png', '78.png', '79.png', '80.png', '81.png', '82.png', '83.png', '84.png', '85.png', '86.png', '87.png', '88.png', '89.png', '90.png', '91.png', '92.png', '93.png', '94.png', '95.png', '96.png', '97.png', '98.png', '99.png', '100.png', '101.png', '102.png', '103.png', '104.png', '105.png', '106.png', '107.png', '108.png', '109.png', '110.png', '111.png', '112.png', '113.png', '114.png', '115.png', '116.png', '117.png', '118.png', '119.png', '120.png', '121.png', '122.png', '123.png', '124.png', '125.png', '126.png', '127.png', '128.png', '129.png', '130.png', '131.png', '132.png', '133.png', '134.png', '135.png', '136.png', '137.png', '138.png', '139.png', '140.png', '141.png', '142.png', '143.png', '144.png', '145.png', '146.png', '147.png', '148.png', '149.png', '150.png', '151.png', '152.png', '153.png', '154.png', '155.png', '156.png', '157.png', '158.png', '159.png', '160.png', '161.png', '162.png', '163.png', '164.png', '165.png', '166.png', '167.png', '168.png', '169.png', '170.png', '171.png', '172.png', '173.png', '174.png', '175.png', '176.png', '177.png', '178.png', '179.png', '180.png', '181.png', '182.png', '183.png', '184.png', '185.png', '186.png', '187.png', '188.png', '189.png', '190.png', '191.png', '192.png', '193.png', '194.png', '195.png', '196.png', '197.png', '198.png', '199.png', '200.png', '201.png', '202.png', '203.png', '204.png', '205.png', '206.png', '207.png', '208.png', '209.png', '210.png', '211.png', '212.png', '213.png', '214.png', '215.png', '216.png', '217.png', '218.png', '219.png', '220.png', '221.png', '222.png', '223.png', '224.png', '225.png', '226.png', '227.png', '228.png', '229.png', '230.png', '231.png', '232.png', '233.png', '234.png', '235.png', '236.png', '237.png', '238.png', '239.png', '240.png', '241.png', '242.png', '243.png', '244.png', '245.png', '246.png', '247.png', '248.png', '249.png', '250.png', '251.png', '252.png', '253.png', '254.png', '255.png', '256.png', '257.png', '258.png', '259.png', '260.png', '261.png', '262.png', '263.png', '264.png', '265.png', '266.png', '267.png', '268.png', '269.png', '270.png', '271.png', '272.png', '273.png', '274.png', '275.png', '276.png', '277.png', '278.png', '279.png', '280.png', '281.png', '282.png', '283.png', '284.png', '285.png', '286.png', '287.png', '288.png', '289.png', '290.png', '291.png', '292.png', '293.png', '294.png', '295.png', '296.png', '297.png', '298.png', '299.png', '300.png', '301.png', '302.png', '303.png', '304.png', '305.png', '306.png', '307.png', '308.png', '309.png', '310.png', '311.png', '312.png', '313.png', '314.png', '315.png', '316.png', '317.png', '318.png', '319.png', '320.png', '321.png', '322.png', '323.png', '324.png', '325.png', '326.png', '327.png', '328.png', '329.png', '330.png', '331.png', '332.png', '333.png', '334.png', '335.png', '336.png', '337.png', '338.png', '339.png', '340.png', '341.png', '342.png', '343.png', '344.png', '345.png', '346.png', '347.png', '348.png', '349.png', '350.png', '351.png', '352.png', '353.png', '354.png', '355.png', '356.png', '357.png', '358.png', '359.png', '360.png', '361.png', '362.png', '363.png', '364.png', '365.png', '366.png', '367.png', '368.png', '369.png', '370.png', '371.png', '372.png', '373.png', '374.png', '375.png', '376.png', '377.png', '378.png', '379.png', '380.png', '381.png', '382.png', '383.png', '384.png', '385.png', '386.png', '387.png', '388.png', '389.png', '390.png', '391.png', '392.png', '393.png', '394.png', '395.png', '396.png', '397.png', '398.png', '399.png', '400.png', '401.png', '402.png', '403.png', '404.png', '405.png', '406.png', '407.png', '408.png', '409.png', '410.png', '411.png', '412.png', '413.png', '414.png', '415.png', '416.png', '417.png', '418.png', '419.png', '420.png', '421.png', '422.png', '423.png', '424.png', '425.png', '426.png', '427.png', '428.png', '429.png', '430.png', '431.png', '432.png', '433.png', '434.png', '435.png', '436.png', '437.png', '438.png', '439.png', '440.png', '441.png', '442.png', '443.png', '444.png', '445.png', '446.png', '447.png', '448.png', '449.png', '450.png', '451.png', '452.png', '453.png', '454.png', '455.png', '456.png', '457.png', '458.png', '459.png', '460.png', '461.png', '462.png', '463.png', '464.png', '465.png', '466.png', '467.png', '468.png', '469.png', '470.png', '471.png', '472.png', '473.png', '474.png', '475.png', '476.png', '477.png', '478.png', '479.png', '480.png', '481.png', '482.png', '483.png', '484.png', '485.png', '486.png', '487.png', '488.png', '489.png', '490.png', '491.png', '492.png', '493.png', '494.png', '495.png', '496.png', '497.png', '498.png', '499.png', '500.png', '501.png', '502.png', '503.png', '504.png', '505.png', '506.png', '507.png', '508.png', '509.png', '510.png', '511.png', '512.png', '513.png', '514.png', '515.png', '516.png', '517.png', '518.png', '519.png', '520.png', '521.png', '522.png', '523.png', '524.png', '525.png', '526.png', '527.png', '528.png', '529.png', '530.png', '531.png', '532.png', '533.png', '534.png', '535.png', '536.png', '537.png', '538.png', '539.png', '540.png', '541.png', '542.png', '543.png', '544.png', '545.png', '546.png', '547.png', '548.png', '549.png', '550.png', '551.png', '552.png', '553.png', '554.png', '555.png', '556.png', '557.png', '558.png', '559.png', '560.png', '561.png', '562.png', '563.png', '564.png', '565.png', '566.png', '567.png', '568.png', '569.png', '570.png', '571.png', '572.png', '573.png', '574.png', '575.png', '576.png', '577.png', '578.png', '579.png', '580.png', '581.png', '582.png', '583.png', '584.png', '585.png', '586.png', '587.png', '588.png', '589.png', '590.png', '591.png', '592.png', '593.png', '594.png', '595.png', '596.png', '597.png', '598.png', '599.png', '600.png', '601.png', '602.png', '603.png', '604.png', '605.png', '606.png', '607.png', '608.png', '609.png', '610.png', '611.png', '612.png', '613.png', '614.png', '615.png', '616.png', '617.png', '618.png', '619.png', '620.png', '621.png', '622.png', '623.png', '624.png', '625.png', '626.png', '627.png', '628.png', '629.png', '630.png', '631.png', '632.png', '633.png', '634.png', '635.png', '636.png', '637.png', '638.png', '639.png', '640.png', '641.png', '642.png', '643.png', '644.png', '645.png', '646.png', '647.png', '648.png', '649.png', '650.png', '651.png', '652.png', '653.png', '654.png', '655.png', '656.png', '657.png', '658.png', '659.png', '660.png', '661.png', '662.png', '663.png', '664.png', '665.png', '666.png', '667.png', '668.png', '669.png', '670.png', '671.png', '672.png', '673.png', '674.png', '675.png', '676.png', '677.png', '678.png', '679.png', '680.png', '681.png', '682.png', '683.png', '684.png', '685.png', '686.png', '687.png', '688.png', '689.png', '690.png', '691.png', '692.png', '693.png', '694.png', '695.png', '696.png', '697.png', '698.png', '699.png', '700.png', '701.png', '702.png', '703.png', '704.png', '705.png', '706.png', '707.png', '708.png', '709.png', '710.png', '711.png', '712.png', '713.png', '714.png', '715.png', '716.png', '717.png', '718.png', '719.png', '720.png', '721.png', '722.png', '723.png', '724.png', '725.png', '726.png', '727.png', '728.png', '729.png', '730.png', '731.png', '732.png', '733.png', '734.png', '735.png', '736.png', '737.png', '738.png', '739.png', '740.png', '741.png', '742.png', '743.png', '744.png', '745.png', '746.png', '747.png', '748.png', '749.png', '750.png', '751.png', '752.png', '753.png', '754.png', '755.png', '756.png', '757.png', '758.png', '759.png', '760.png', '761.png', '762.png', '763.png', '764.png', '765.png', '766.png', '767.png', '768.png', '769.png', '770.png', '771.png', '772.png', '773.png', '774.png', '775.png', '776.png', '777.png', '778.png', '779.png', '780.png', '781.png', '782.png', '783.png', '784.png', '785.png', '786.png', '787.png', '788.png', '789.png', '790.png', '791.png', '792.png', '793.png', '794.png', '795.png', '796.png', '797.png', '798.png', '799.png', '800.png', '801.png', '802.png', '803.png', '804.png', '805.png', '806.png', '807.png', '808.png', '809.png', '810.png', '811.png', '812.png', '813.png', '814.png', '815.png', '816.png', '817.png', '818.png', '819.png', '820.png', '821.png', '822.png', '823.png', '824.png', '825.png', '826.png', '827.png', '828.png', '829.png', '830.png', '831.png', '832.png', '833.png', '834.png', '835.png', '836.png', '837.png', '838.png', '839.png', '840.png', '841.png', '842.png', '843.png', '844.png', '845.png', '846.png', '847.png', '848.png', '849.png', '850.png', '851.png', '852.png', '853.png', '854.png', '855.png', '856.png', '857.png', '858.png', '859.png', '860.png', '861.png', '862.png', '863.png', '864.png', '865.png', '866.png', '867.png', '868.png', '869.png', '870.png', '871.png', '872.png', '873.png', '874.png', '875.png', '876.png', '877.png', '878.png', '879.png', '880.png', '881.png', '882.png', '883.png', '884.png', '885.png', '886.png', '887.png', '888.png', '889.png', '890.png', '891.png', '892.png', '893.png', '894.png', '895.png', '896.png', '897.png', '898.png', '899.png', '900.png', '901.png', '902.png', '903.png', '904.png', '905.png', '906.png', '907.png', '908.png', '909.png', '910.png', '911.png', '912.png', '913.png', '914.png', '915.png', '916.png', '917.png', '918.png', '919.png', '920.png', '921.png', '922.png', '923.png', '924.png', '925.png', '926.png', '927.png', '928.png', '929.png', '930.png', '931.png', '932.png', '933.png', '934.png', '935.png', '936.png', '937.png', '938.png', '939.png', '940.png', '941.png', '942.png', '943.png', '944.png', '945.png', '946.png', '947.png', '948.png', '949.png', '950.png', '951.png', '952.png', '953.png', '954.png', '955.png', '956.png', '957.png', '958.png', '959.png', '960.png', '961.png', '962.png', '963.png', '964.png', '965.png', '966.png', '967.png', '968.png', '969.png', '970.png', '971.png', '972.png', '973.png', '974.png', '975.png', '976.png', '977.png', '978.png', '979.png', '980.png', '981.png', '982.png', '983.png', '984.png', '985.png', '986.png', '987.png', '988.png', '989.png', '990.png', '991.png', '992.png', '993.png', '994.png', '995.png', '996.png', '997.png', '998.png', '999.png', '1000.png', '1001.png', '1002.png', '1003.png', '1004.png', '1005.png', '1006.png', '1007.png', '1008.png', '1009.png', '1010.png', '1011.png', '1012.png', '1013.png', '1014.png', '1015.png', '1016.png', '1017.png', '1018.png', '1019.png', '1020.png', '1021.png', '1022.png', '1023.png', '1024.png', '1025.png', '1026.png', '1027.png', '1028.png', '1029.png', '1030.png', '1031.png', '1032.png', '1033.png', '1034.png', '1035.png', '1036.png', '1037.png', '1038.png', '1039.png', '1040.png', '1041.png', '1042.png', '1043.png', '1044.png', '1045.png', '1046.png', '1047.png', '1048.png', '1049.png', '1050.png', '1051.png', '1052.png', '1053.png', '1054.png', '1055.png', '1056.png', '1057.png', '1058.png', '1059.png', '1060.png', '1061.png', '1062.png', '1063.png', '1064.png', '1065.png', '1066.png', '1067.png', '1068.png', '1069.png', '1070.png', '1071.png', '1072.png', '1073.png', '1074.png', '1075.png', '1076.png', '1077.png', '1078.png', '1079.png', '1080.png', '1081.png', '1082.png', '1083.png', '1084.png', '1085.png', '1086.png', '1087.png', '1088.png', '1089.png', '1090.png', '1091.png', '1092.png', '1093.png', '1094.png', '1095.png', '1096.png', '1097.png', '1098.png', '1099.png', '1100.png', '1101.png', '1102.png', '1103.png', '1104.png', '1105.png', '1106.png', '1107.png', '1108.png', '1109.png', '1110.png', '1111.png', '1112.png', '1113.png', '1114.png', '1115.png', '1116.png', '1117.png', '1118.png', '1119.png', '1120.png', '1121.png', '1122.png', '1123.png', '1124.png', '1125.png', '1126.png', '1127.png', '1128.png', '1129.png', '1130.png', '1131.png', '1132.png', '1133.png', '1134.png', '1135.png', '1136.png', '1137.png', '1138.png', '1139.png', '1140.png', '1141.png', '1142.png', '1143.png', '1144.png', '1145.png', '1146.png', '1147.png', '1148.png', '1149.png', '1150.png', '1151.png', '1152.png', '1153.png', '1154.png', '1155.png', '1156.png', '1157.png', '1158.png', '1159.png', '1160.png', '1161.png', '1162.png', '1163.png', '1164.png', '1165.png', '1166.png', '1167.png', '1168.png', '1169.png', '1170.png', '1171.png', '1172.png', '1173.png', '1174.png', '1175.png', '1176.png', '1177.png', '1178.png', '1179.png', '1180.png', '1181.png', '1182.png', '1183.png', '1184.png', '1185.png', '1186.png', '1187.png', '1188.png', '1189.png', '1190.png', '1191.png', '1192.png', '1193.png', '1194.png', '1195.png', '1196.png', '1197.png', '1198.png', '1199.png', '1200.png', '1201.png', '1202.png', '1203.png', '1204.png', '1205.png', '1206.png', '1207.png', '1208.png', '1209.png', '1210.png', '1211.png', '1212.png', '1213.png', '1214.png', '1215.png', '1216.png', '1217.png', '1218.png', '1219.png', '1220.png', '1221.png', '1222.png', '1223.png', '1224.png', '1225.png', '1226.png', '1227.png', '1228.png', '1229.png', '1230.png', '1231.png', '1232.png', '1233.png', '1234.png', '1235.png', '1236.png', '1237.png', '1238.png', '1239.png', '1240.png', '1241.png', '1242.png', '1243.png', '1244.png', '1245.png', '1246.png', '1247.png', '1248.png', '1249.png', '1250.png', '1251.png', '1252.png', '1253.png', '1254.png', '1255.png', '1256.png', '1257.png', '1258.png', '1259.png', '1260.png', '1261.png', '1262.png', '1263.png', '1264.png', '1265.png', '1266.png', '1267.png', '1268.png', '1269.png', '1270.png', '1271.png', '1272.png', '1273.png', '1274.png', '1275.png', '1276.png', '1277.png', '1278.png', '1279.png', '1280.png', '1281.png', '1282.png', '1283.png', '1284.png', '1285.png', '1286.png', '1287.png', '1288.png', '1289.png', '1290.png', '1291.png', '1292.png', '1293.png', '1294.png', '1295.png', '1296.png', '1297.png', '1298.png', '1299.png', '1300.png', '1301.png', '1302.png', '1303.png', '1304.png', '1305.png', '1306.png', '1307.png', '1308.png', '1309.png', '1310.png', '1311.png', '1312.png', '1313.png', '1314.png', '1315.png', '1316.png', '1317.png', '1318.png', '1319.png', '1320.png', '1321.png', '1322.png', '1323.png', '1324.png', '1325.png', '1326.png', '1327.png', '1328.png', '1329.png', '1330.png', '1331.png', '1332.png', '1333.png', '1334.png', '1335.png', '1336.png', '1337.png', '1338.png', '1339.png', '1340.png', '1341.png', '1342.png', '1343.png', '1344.png', '1345.png', '1346.png', '1347.png', '1348.png', '1349.png', '1350.png', '1351.png', '1352.png', '1353.png', '1354.png', '1355.png', '1356.png', '1357.png', '1358.png', '1359.png', '1360.png', '1361.png', '1362.png', '1363.png', '1364.png', '1365.png', '1366.png', '1367.png', '1368.png', '1369.png', '1370.png', '1371.png', '1372.png', '1373.png', '1374.png', '1375.png', '1376.png', '1377.png', '1378.png', '1379.png', '1380.png', '1381.png', '1382.png', '1383.png', '1384.png', '1385.png', '1386.png', '1387.png', '1388.png', '1389.png', '1390.png', '1391.png', '1392.png', '1393.png', '1394.png', '1395.png', '1396.png', '1397.png', '1398.png', '1399.png', '1400.png', '1401.png', '1402.png', '1403.png', '1404.png', '1405.png', '1406.png', '1407.png', '1408.png', '1409.png', '1410.png', '1411.png', '1412.png', '1413.png', '1414.png', '1415.png', '1416.png', '1417.png', '1418.png', '1419.png', '1420.png', '1421.png', '1422.png', '1423.png', '1424.png', '1425.png', '1426.png', '1427.png', '1428.png', '1429.png', '1430.png', '1431.png', '1432.png', '1433.png', '1434.png', '1435.png', '1436.png', '1437.png', '1438.png', '1439.png', '1440.png', '1441.png', '1442.png', '1443.png', '1444.png', '1445.png', '1446.png', '1447.png', '1448.png', '1449.png', '1450.png', '1451.png', '1452.png', '1453.png', '1454.png', '1455.png', '1456.png', '1457.png', '1458.png', '1459.png', '1460.png', '1461.png', '1462.png', '1463.png', '1464.png', '1465.png', '1466.png', '1467.png', '1468.png', '1469.png', '1470.png', '1471.png', '1472.png', '1473.png', '1474.png', '1475.png', '1476.png', '1477.png', '1478.png', '1479.png', '1480.png', '1481.png', '1482.png', '1483.png', '1484.png', '1485.png', '1486.png', '1487.png', '1488.png', '1489.png', '1490.png', '1491.png', '1492.png', '1493.png', '1494.png', '1495.png', '1496.png', '1497.png', '1498.png', '1499.png', '1500.png', '1501.png', '1502.png', '1503.png', '1504.png', '1505.png', '1506.png', '1507.png', '1508.png', '1509.png', '1510.png', '1511.png', '1512.png', '1513.png', '1514.png', '1515.png', '1516.png', '1517.png', '1518.png', '1519.png', '1520.png', '1521.png', '1522.png', '1523.png', '1524.png', '1525.png', '1526.png', '1527.png', '1528.png', '1529.png', '1530.png', '1531.png', '1532.png', '1533.png', '1534.png', '1535.png', '1536.png', '1537.png', '1538.png', '1539.png', '1540.png', '1541.png', '1542.png', '1543.png', '1544.png', '1545.png', '1546.png', '1547.png', '1548.png', '1549.png', '1550.png', '1551.png', '1552.png', '1553.png', '1554.png', '1555.png', '1556.png', '1557.png', '1558.png', '1559.png', '1560.png', '1561.png', '1562.png', '1563.png', '1564.png', '1565.png', '1566.png', '1567.png', '1568.png', '1569.png', '1570.png', '1571.png', '1572.png', '1573.png', '1574.png', '1575.png', '1576.png', '1577.png', '1578.png', '1579.png', '1580.png', '1581.png', '1582.png', '1583.png', '1584.png', '1585.png', '1586.png', '1587.png', '1588.png', '1589.png', '1590.png', '1591.png', '1592.png', '1593.png', '1594.png', '1595.png', '1596.png', '1597.png', '1598.png', '1599.png', '1600.png', '1601.png', '1602.png', '1603.png', '1604.png', '1605.png', '1606.png', '1607.png', '1608.png', '1609.png', '1610.png', '1611.png', '1612.png', '1613.png', '1614.png', '1615.png', '1616.png', '1617.png', '1618.png', '1619.png', '1620.png', '1621.png', '1622.png', '1623.png', '1624.png', '1625.png', '1626.png', '1627.png', '1628.png', '1629.png', '1630.png', '1631.png', '1632.png', '1633.png', '1634.png', '1635.png', '1636.png', '1637.png', '1638.png', '1639.png', '1640.png', '1641.png', '1642.png', '1643.png', '1644.png', '1645.png', '1646.png', '1647.png', '1648.png', '1649.png', '1650.png', '1651.png', '1652.png', '1653.png', '1654.png', '1655.png', '1656.png', '1657.png', '1658.png', '1659.png', '1660.png', '1661.png', '1662.png', '1663.png', '1664.png', '1665.png', '1666.png', '1667.png', '1668.png', '1669.png', '1670.png', '1671.png', '1672.png', '1673.png', '1674.png', '1675.png', '1676.png', '1677.png', '1678.png', '1679.png', '1680.png', '1681.png', '1682.png', '1683.png', '1684.png', '1685.png', '1686.png', '1687.png', '1688.png', '1689.png', '1690.png', '1691.png', '1692.png', '1693.png', '1694.png', '1695.png', '1696.png', '1697.png', '1698.png', '1699.png', '1700.png', '1701.png', '1702.png', '1703.png', '1704.png', '1705.png', '1706.png', '1707.png', '1708.png', '1709.png', '1710.png', '1711.png', '1712.png', '1713.png', '1714.png', '1715.png', '1716.png', '1717.png', '1718.png', '1719.png', '1720.png', '1721.png', '1722.png', '1723.png', '1724.png', '1725.png', '1726.png', '1727.png', '1728.png', '1729.png', '1730.png', '1731.png', '1732.png', '1733.png', '1734.png', '1735.png', '1736.png', '1737.png', '1738.png', '1739.png', '1740.png', '1741.png', '1742.png', '1743.png', '1744.png', '1745.png', '1746.png', '1747.png', '1748.png', '1749.png', '1750.png', '1751.png', '1752.png', '1753.png', '1754.png', '1755.png', '1756.png', '1757.png', '1758.png', '1759.png', '1760.png', '1761.png', '1762.png', '1763.png', '1764.png', '1765.png', '1766.png', '1767.png', '1768.png', '1769.png', '1770.png', '1771.png', '1772.png', '1773.png', '1774.png', '1775.png', '1776.png', '1777.png', '1778.png', '1779.png', '1780.png', '1781.png', '1782.png', '1783.png', '1784.png', '1785.png', '1786.png', '1787.png', '1788.png', '1789.png', '1790.png', '1791.png', '1792.png', '1793.png', '1794.png', '1795.png', '1796.png', '1797.png', '1798.png', '1799.png', '1800.png', '1801.png', '1802.png', '1803.png', '1804.png', '1805.png', '1806.png', '1807.png', '1808.png', '1809.png', '1810.png', '1811.png', '1812.png', '1813.png', '1814.png', '1815.png', '1816.png', '1817.png', '1818.png', '1819.png', '1820.png', '1821.png', '1822.png', '1823.png', '1824.png', '1825.png', '1826.png', '1827.png', '1828.png', '1829.png', '1830.png', '1831.png', '1832.png', '1833.png', '1834.png', '1835.png', '1836.png', '1837.png', '1838.png', '1839.png', '1840.png', '1841.png', '1842.png', '1843.png', '1844.png', '1845.png', '1846.png', '1847.png', '1848.png', '1849.png', '1850.png', '1851.png', '1852.png', '1853.png', '1854.png', '1855.png', '1856.png', '1857.png', '1858.png', '1859.png', '1860.png', '1861.png', '1862.png', '1863.png', '1864.png', '1865.png', '1866.png', '1867.png', '1868.png', '1869.png', '1870.png', '1871.png', '1872.png', '1873.png', '1874.png', '1875.png', '1876.png', '1877.png', '1878.png', '1879.png', '1880.png', '1881.png', '1882.png', '1883.png', '1884.png', '1885.png', '1886.png', '1887.png', '1888.png', '1889.png', '1890.png', '1891.png', '1892.png', '1893.png', '1894.png', '1895.png', '1896.png', '1897.png', '1898.png', '1899.png', '1900.png', '1901.png', '1902.png', '1903.png', '1904.png', '1905.png', '1906.png', '1907.png', '1908.png', '1909.png', '1910.png', '1911.png', '1912.png', '1913.png', '1914.png', '1915.png', '1916.png', '1917.png', '1918.png', '1919.png', '1920.png', '1921.png', '1922.png', '1923.png', '1924.png', '1925.png', '1926.png', '1927.png', '1928.png', '1929.png', '1930.png', '1931.png', '1932.png', '1933.png', '1934.png', '1935.png', '1936.png', '1937.png', '1938.png', '1939.png', '1940.png', '1941.png', '1942.png', '1943.png', '1944.png', '1945.png', '1946.png', '1947.png', '1948.png', '1949.png', '1950.png', '1951.png', '1952.png', '1953.png', '1954.png', '1955.png', '1956.png', '1957.png', '1958.png', '1959.png', '1960.png', '1961.png', '1962.png', '1963.png', '1964.png', '1965.png', '1966.png', '1967.png', '1968.png', '1969.png', '1970.png', '1971.png', '1972.png', '1973.png', '1974.png', '1975.png', '1976.png', '1977.png', '1978.png', '1979.png', '1980.png', '1981.png', '1982.png', '1983.png', '1984.png', '1985.png', '1986.png', '1987.png', '1988.png', '1989.png', '1990.png', '1991.png', '1992.png', '1993.png', '1994.png', '1995.png', '1996.png', '1997.png', '1998.png', '1999.png', '2000.png', '2001.png', '2002.png', '2003.png', '2004.png', '2005.png', '2006.png', '2007.png', '2008.png', '2009.png', '2010.png', '2011.png', '2012.png', '2013.png', '2014.png', '2015.png', '2016.png', '2017.png', '2018.png', '2019.png', '2020.png', '2021.png', '2022.png', '2023.png', '2024.png', '2025.png', '2026.png', '2027.png', '2028.png', '2029.png', '2030.png', '2031.png', '2032.png', '2033.png', '2034.png', '2035.png', '2036.png', '2037.png', '2038.png', '2039.png', '2040.png', '2041.png', '2042.png', '2043.png', '2044.png', '2045.png', '2046.png', '2047.png', '2048.png', '2049.png', '2050.png', '2051.png', '2052.png', '2053.png', '2054.png', '2055.png', '2056.png', '2057.png', '2058.png', '2059.png', '2060.png', '2061.png', '2062.png', '2063.png', '2064.png', '2065.png', '2066.png', '2067.png', '2068.png', '2069.png', '2070.png', '2071.png', '2072.png', '2073.png', '2074.png', '2075.png', '2076.png', '2077.png', '2078.png', '2079.png', '2080.png', '2081.png', '2082.png', '2083.png', '2084.png', '2085.png', '2086.png', '2087.png', '2088.png', '2089.png', '2090.png', '2091.png', '2092.png', '2093.png', '2094.png', '2095.png', '2096.png', '2097.png', '2098.png', '2099.png', '2100.png', '2101.png', '2102.png', '2103.png', '2104.png', '2105.png', '2106.png', '2107.png', '2108.png', '2109.png', '2110.png', '2111.png', '2112.png', '2113.png', '2114.png', '2115.png', '2116.png', '2117.png', '2118.png', '2119.png', '2120.png', '2121.png', '2122.png', '2123.png', '2124.png', '2125.png', '2126.png', '2127.png', '2128.png', '2129.png', '2130.png', '2131.png', '2132.png', '2133.png', '2134.png', '2135.png', '2136.png', '2137.png', '2138.png', '2139.png', '2140.png', '2141.png', '2142.png', '2143.png', '2144.png', '2145.png', '2146.png', '2147.png', '2148.png', '2149.png', '2150.png', '2151.png', '2152.png', '2153.png', '2154.png', '2155.png', '2156.png', '2157.png', '2158.png', '2159.png', '2160.png', '2161.png', '2162.png', '2163.png', '2164.png', '2165.png', '2166.png', '2167.png', '2168.png', '2169.png', '2170.png', '2171.png', '2172.png', '2173.png', '2174.png', '2175.png', '2176.png', '2177.png', '2178.png', '2179.png', '2180.png', '2181.png', '2182.png', '2183.png', '2184.png', '2185.png', '2186.png', '2187.png', '2188.png', '2189.png', '2190.png']\n"
          ],
          "name": "stdout"
        }
      ]
    },
    {
      "cell_type": "code",
      "metadata": {
        "colab": {
          "base_uri": "https://localhost:8080/",
          "height": 303
        },
        "id": "2tWXp0x0h_Yu",
        "outputId": "d7b7b940-d1ba-4131-eb12-5705a391af69"
      },
      "source": [
        "#save image\n",
        "imgs = np.array(imgs)\n",
        "print(np.shape(imgs))\n",
        "plt.imshow(imgs[0,:,:,:])\n",
        "np.save(\"imgs.npy\",imgs)\n"
      ],
      "execution_count": null,
      "outputs": [
        {
          "output_type": "stream",
          "text": [
            "Clipping input data to the valid range for imshow with RGB data ([0..1] for floats or [0..255] for integers).\n"
          ],
          "name": "stderr"
        },
        {
          "output_type": "stream",
          "text": [
            "(2190, 64, 64, 3)\n"
          ],
          "name": "stdout"
        },
        {
          "output_type": "display_data",
          "data": {
            "image/png": "[encoded data removed]",
            "text/plain": [
              "<Figure size 432x288 with 1 Axes>"
            ]
          },
          "metadata": {
            "tags": [],
            "needs_background": "light"
          }
        }
      ]
    },
    {
      "cell_type": "code",
      "metadata": {
        "id": "zFWL-ijtiENB"
      },
      "source": [
        "#load data form npy file\n",
        "a = torch.empty(2190,3,64,64)\n",
        "imgs = np.load(\"imgs.npy\")\n",
        "#normalization\n",
        "transform = transforms.Compose(\n",
        "  [transforms.ToTensor(),\n",
        "    transforms.Normalize((0.5, 0.5, 0.5), (0.5, 0.5, 0.5))])\n",
        "for i in range(2190):\n",
        "  img = imgs[i,:,:,:]\n",
        "  img = transform(img)\n",
        "  a[i,:,:,:] = img"
      ],
      "execution_count": null,
      "outputs": []
    },
    {
      "cell_type": "code",
      "metadata": {
        "id": "5N3EFC0RYc14"
      },
      "source": [
        "#training\n",
        "class Net(nn.Module):\n",
        "    def __init__(self):\n",
        "        super().__init__()\n",
        "        self.conv1 = nn.Conv2d(3, 6, 5)\n",
        "        self.pool = nn.MaxPool2d(2, 2)\n",
        "        self.conv2 = nn.Conv2d(6, 16, 5)\n",
        "        self.fc1 = nn.Linear(16 * 13 * 13, 120)\n",
        "        self.fc2 = nn.Linear(120, 84)\n",
        "        self.fc3 = nn.Linear(84, 10)\n",
        "    def forward(self, x):\n",
        "        x = self.pool(F.relu(self.conv1(x)))#30*30*6\n",
        "        x = self.pool(F.relu(self.conv2(x)))#13*13*16\n",
        "        x = torch.flatten(x, 1) # flatten all dimensions except batch\n",
        "        x = F.relu(self.fc1(x))\n",
        "        x = F.relu(self.fc2(x))\n",
        "        x = self.fc3(x)\n",
        "        return x\n",
        "\n",
        "net = Net()"
      ],
      "execution_count": null,
      "outputs": []
    },
    {
      "cell_type": "code",
      "metadata": {
        "id": "a-_8-ktTbK2Y"
      },
      "source": [
        "#define loss function\n",
        "import torch.optim as optim\n",
        "criterion = nn.CrossEntropyLoss()\n",
        "optimizer = optim.SGD(net.parameters(), lr=0.001, momentum=0.9)\n",
        "\n",
        "def getdata(data,labels):\n",
        "  inputs = torch.empty(22,3,64,64)\n",
        "  ls = torch.torch.LongTensor(22) \n",
        "  for i in range(22):\n",
        "    s = random.randint(0,2189)\n",
        "    inputs[i,:,:,:] =data[s,:,:,:]\n",
        "    ls[i] = int(labels[s])\n",
        "  return inputs, ls"
      ],
      "execution_count": null,
      "outputs": []
    },
    {
      "cell_type": "code",
      "metadata": {
        "colab": {
          "base_uri": "https://localhost:8080/",
          "height": 1000
        },
        "id": "VOyOmNM3bmN2",
        "outputId": "923353f0-314c-42df-db37-c2da4e1ec134"
      },
      "source": [
        "for epoch in range(2):  # loop over the dataset multiple times\n",
        "\n",
        "  running_loss = 0.0\n",
        "  for i in range(10001):\n",
        "    # get the inputs; data is a list of [inputs, labels]\n",
        "    inputs, ls = getdata(a,labels)\n",
        "\n",
        "    # zero the parameter gradients\n",
        "    optimizer.zero_grad()\n",
        "    print(ls)\n",
        "    # forward + backward + optimize\n",
        "    outputs = net(inputs)\n",
        "    loss = criterion(outputs, ls)\n",
        "    loss.backward()\n",
        "    optimizer.step()\n",
        "\n",
        "    # print statistics\n",
        "    running_loss += loss.item()\n",
        "    if i % 2000 == 1999:    # print every 2000 mini-batches\n",
        "      print('[%d, %5d] loss: %.3f' %\n",
        "        (epoch + 1, i + 1, running_loss / 2000))\n",
        "      running_loss = 0.0\n",
        "\n",
        "print('Finished Training')"
      ],
      "execution_count": null,
      "outputs": [
        {
          "output_type": "stream",
          "text": [
            "tensor([3, 3, 1, 1])\n",
            "tensor([1, 2, 1, 3])\n",
            "tensor([2, 3, 1, 1])\n",
            "tensor([1, 2, 1, 1])\n",
            "tensor([3, 3, 2, 2])\n",
            "tensor([1, 3, 1, 3])\n",
            "tensor([2, 1, 1, 2])\n",
            "tensor([2, 3, 2, 2])\n",
            "tensor([1, 3, 3, 1])\n",
            "tensor([1, 2, 3, 3])\n",
            "tensor([2, 1, 1, 3])\n",
            "tensor([3, 2, 3, 1])\n",
            "tensor([0, 2, 3, 1])\n",
            "tensor([2, 3, 2, 2])\n",
            "tensor([3, 1, 1, 3])\n",
            "tensor([3, 0, 0, 1])\n",
            "tensor([3, 2, 2, 3])\n",
            "tensor([1, 0, 2, 1])\n",
            "tensor([2, 3, 3, 1])\n",
            "tensor([1, 3, 3, 2])\n",
            "tensor([0, 3, 2, 3])\n",
            "tensor([1, 1, 2, 2])\n",
            "tensor([2, 3, 2, 3])\n",
            "tensor([0, 3, 3, 0])\n",
            "tensor([2, 0, 2, 1])\n",
            "tensor([3, 3, 1, 2])\n",
            "tensor([1, 2, 3, 2])\n",
            "tensor([3, 2, 3, 3])\n",
            "tensor([2, 2, 1, 1])\n",
            "tensor([1, 2, 0, 2])\n",
            "tensor([1, 3, 0, 1])\n",
            "tensor([2, 3, 1, 1])\n",
            "tensor([3, 2, 2, 3])\n",
            "tensor([0, 2, 3, 2])\n",
            "tensor([2, 2, 1, 2])\n",
            "tensor([1, 3, 1, 1])\n",
            "tensor([1, 3, 3, 3])\n",
            "tensor([1, 2, 2, 0])\n",
            "tensor([0, 3, 0, 0])\n",
            "tensor([1, 1, 1, 2])\n",
            "tensor([3, 3, 2, 0])\n",
            "tensor([1, 1, 1, 2])\n",
            "tensor([3, 0, 2, 2])\n",
            "tensor([2, 2, 3, 3])\n",
            "tensor([1, 2, 3, 1])\n",
            "tensor([2, 2, 2, 3])\n",
            "tensor([3, 1, 2, 2])\n",
            "tensor([2, 1, 3, 3])\n",
            "tensor([2, 3, 2, 2])\n",
            "tensor([2, 1, 3, 1])\n",
            "tensor([2, 3, 1, 1])\n",
            "tensor([0, 1, 3, 2])\n",
            "tensor([3, 2, 2, 3])\n",
            "tensor([1, 2, 1, 3])\n",
            "tensor([3, 3, 3, 3])\n",
            "tensor([1, 2, 3, 3])\n",
            "tensor([1, 1, 2, 1])\n",
            "tensor([0, 0, 2, 3])\n",
            "tensor([3, 2, 2, 2])\n",
            "tensor([2, 3, 2, 1])\n",
            "tensor([2, 0, 2, 1])\n",
            "tensor([2, 3, 0, 0])\n",
            "tensor([1, 3, 0, 1])\n",
            "tensor([2, 0, 1, 1])\n",
            "tensor([3, 3, 2, 2])\n",
            "tensor([1, 3, 2, 0])\n",
            "tensor([3, 2, 0, 2])\n",
            "tensor([2, 1, 0, 3])\n",
            "tensor([1, 0, 2, 1])\n",
            "tensor([3, 3, 0, 3])\n",
            "tensor([3, 2, 2, 1])\n",
            "tensor([0, 2, 1, 1])\n",
            "tensor([3, 1, 2, 2])\n",
            "tensor([2, 1, 2, 3])\n",
            "tensor([1, 3, 3, 2])\n",
            "tensor([1, 2, 2, 2])\n",
            "tensor([2, 2, 2, 0])\n",
            "tensor([0, 3, 1, 1])\n",
            "tensor([2, 3, 1, 2])\n",
            "tensor([2, 1, 0, 0])\n",
            "tensor([2, 2, 3, 3])\n",
            "tensor([1, 0, 0, 2])\n",
            "tensor([3, 2, 3, 3])\n",
            "tensor([2, 2, 1, 2])\n",
            "tensor([1, 3, 1, 1])\n",
            "tensor([3, 2, 3, 2])\n",
            "tensor([3, 3, 3, 2])\n",
            "tensor([1, 3, 1, 2])\n",
            "tensor([1, 1, 3, 2])\n",
            "tensor([2, 2, 3, 3])\n",
            "tensor([0, 1, 3, 3])\n",
            "tensor([1, 1, 1, 1])\n",
            "tensor([3, 3, 0, 3])\n",
            "tensor([2, 1, 1, 3])\n",
            "tensor([3, 3, 2, 2])\n",
            "tensor([3, 3, 1, 3])\n",
            "tensor([3, 1, 3, 1])\n",
            "tensor([1, 2, 3, 3])\n",
            "tensor([0, 0, 1, 2])\n",
            "tensor([1, 1, 2, 2])\n",
            "tensor([3, 2, 2, 3])\n",
            "tensor([1, 3, 2, 1])\n",
            "tensor([1, 3, 2, 2])\n",
            "tensor([1, 2, 3, 0])\n",
            "tensor([2, 3, 3, 2])\n",
            "tensor([0, 3, 3, 3])\n",
            "tensor([3, 1, 3, 3])\n",
            "tensor([2, 2, 3, 3])\n",
            "tensor([3, 2, 3, 2])\n",
            "tensor([2, 2, 2, 2])\n",
            "tensor([2, 1, 1, 1])\n",
            "tensor([1, 1, 3, 3])\n",
            "tensor([1, 1, 1, 3])\n",
            "tensor([2, 0, 3, 0])\n",
            "tensor([3, 3, 2, 2])\n",
            "tensor([1, 1, 1, 3])\n",
            "tensor([3, 3, 2, 2])\n",
            "tensor([3, 2, 1, 0])\n",
            "tensor([0, 2, 3, 2])\n",
            "tensor([2, 2, 0, 2])\n",
            "tensor([3, 1, 2, 2])\n",
            "tensor([3, 0, 2, 0])\n",
            "tensor([1, 1, 3, 1])\n",
            "tensor([3, 1, 3, 1])\n",
            "tensor([1, 1, 1, 3])\n",
            "tensor([1, 1, 3, 3])\n",
            "tensor([0, 2, 3, 0])\n",
            "tensor([0, 3, 3, 3])\n",
            "tensor([2, 3, 2, 3])\n",
            "tensor([3, 3, 2, 2])\n",
            "tensor([3, 3, 3, 1])\n",
            "tensor([2, 3, 2, 2])\n",
            "tensor([2, 1, 1, 2])\n",
            "tensor([1, 3, 2, 1])\n",
            "tensor([3, 1, 3, 2])\n",
            "tensor([0, 1, 3, 3])\n",
            "tensor([2, 2, 0, 2])\n",
            "tensor([1, 3, 2, 1])\n",
            "tensor([3, 1, 3, 2])\n",
            "tensor([3, 3, 3, 2])\n",
            "tensor([0, 0, 2, 1])\n",
            "tensor([0, 2, 2, 3])\n",
            "tensor([3, 2, 3, 1])\n",
            "tensor([2, 3, 3, 3])\n",
            "tensor([0, 3, 2, 2])\n",
            "tensor([3, 3, 2, 0])\n",
            "tensor([3, 1, 2, 2])\n",
            "tensor([3, 0, 1, 1])\n",
            "tensor([2, 1, 3, 3])\n",
            "tensor([1, 2, 3, 0])\n",
            "tensor([2, 1, 3, 3])\n",
            "tensor([3, 3, 1, 2])\n",
            "tensor([2, 3, 3, 1])\n",
            "tensor([3, 1, 1, 2])\n",
            "tensor([3, 3, 3, 3])\n",
            "tensor([2, 2, 0, 1])\n",
            "tensor([3, 1, 3, 3])\n",
            "tensor([2, 3, 1, 2])\n",
            "tensor([1, 0, 3, 3])\n",
            "tensor([3, 2, 1, 3])\n",
            "tensor([2, 3, 3, 3])\n",
            "tensor([1, 1, 1, 2])\n",
            "tensor([3, 2, 2, 3])\n",
            "tensor([2, 1, 2, 2])\n",
            "tensor([3, 3, 1, 3])\n",
            "tensor([1, 3, 1, 3])\n",
            "tensor([3, 2, 1, 3])\n",
            "tensor([2, 2, 1, 1])\n",
            "tensor([3, 2, 1, 3])\n",
            "tensor([3, 2, 1, 3])\n",
            "tensor([2, 0, 1, 3])\n",
            "tensor([3, 1, 1, 0])\n",
            "tensor([3, 1, 2, 0])\n",
            "tensor([3, 3, 3, 3])\n",
            "tensor([3, 1, 3, 1])\n",
            "tensor([2, 1, 1, 0])\n",
            "tensor([2, 3, 2, 3])\n",
            "tensor([2, 0, 1, 2])\n",
            "tensor([3, 0, 1, 3])\n",
            "tensor([3, 3, 3, 3])\n",
            "tensor([3, 3, 3, 2])\n",
            "tensor([2, 3, 1, 1])\n",
            "tensor([2, 2, 2, 3])\n",
            "tensor([1, 2, 2, 2])\n",
            "tensor([1, 3, 2, 3])\n",
            "tensor([3, 2, 2, 2])\n",
            "tensor([1, 2, 3, 2])\n",
            "tensor([1, 1, 1, 3])\n",
            "tensor([1, 2, 2, 3])\n",
            "tensor([3, 3, 1, 3])\n",
            "tensor([3, 3, 3, 2])\n",
            "tensor([3, 1, 3, 2])\n",
            "tensor([2, 1, 1, 1])\n",
            "tensor([2, 2, 1, 1])\n",
            "tensor([0, 1, 3, 2])\n",
            "tensor([3, 2, 1, 1])\n",
            "tensor([2, 3, 1, 0])\n",
            "tensor([1, 1, 3, 2])\n",
            "tensor([1, 1, 2, 1])\n",
            "tensor([0, 3, 3, 0])\n",
            "tensor([2, 2, 3, 2])\n",
            "tensor([0, 2, 1, 3])\n",
            "tensor([2, 1, 1, 3])\n",
            "tensor([2, 3, 3, 1])\n",
            "tensor([2, 3, 1, 0])\n",
            "tensor([1, 3, 3, 1])\n",
            "tensor([0, 1, 1, 2])\n",
            "tensor([3, 2, 3, 1])\n",
            "tensor([3, 2, 1, 3])\n",
            "tensor([1, 2, 3, 0])\n",
            "tensor([1, 3, 3, 1])\n",
            "tensor([0, 1, 1, 3])\n",
            "tensor([3, 2, 2, 2])\n",
            "tensor([3, 1, 3, 2])\n",
            "tensor([1, 3, 3, 0])\n",
            "tensor([2, 2, 1, 3])\n",
            "tensor([0, 3, 1, 3])\n",
            "tensor([3, 2, 2, 1])\n",
            "tensor([1, 3, 1, 1])\n",
            "tensor([3, 2, 0, 2])\n",
            "tensor([2, 3, 1, 3])\n",
            "tensor([3, 3, 3, 1])\n",
            "tensor([1, 0, 2, 3])\n",
            "tensor([2, 2, 1, 1])\n",
            "tensor([3, 2, 3, 2])\n",
            "tensor([2, 1, 1, 3])\n",
            "tensor([2, 3, 1, 2])\n",
            "tensor([1, 1, 2, 3])\n",
            "tensor([3, 2, 0, 1])\n",
            "tensor([1, 1, 2, 1])\n",
            "tensor([3, 2, 3, 3])\n",
            "tensor([1, 3, 1, 1])\n",
            "tensor([2, 3, 1, 0])\n",
            "tensor([0, 1, 1, 1])\n",
            "tensor([3, 2, 3, 3])\n",
            "tensor([3, 1, 1, 0])\n",
            "tensor([3, 2, 2, 3])\n",
            "tensor([3, 1, 3, 3])\n",
            "tensor([3, 0, 1, 3])\n",
            "tensor([2, 0, 1, 3])\n",
            "tensor([3, 3, 1, 0])\n",
            "tensor([2, 2, 3, 1])\n",
            "tensor([3, 2, 2, 2])\n",
            "tensor([2, 2, 1, 2])\n",
            "tensor([3, 2, 1, 2])\n",
            "tensor([2, 3, 1, 2])\n",
            "tensor([3, 3, 0, 3])\n",
            "tensor([2, 3, 1, 1])\n",
            "tensor([3, 3, 1, 1])\n",
            "tensor([1, 0, 3, 3])\n",
            "tensor([3, 0, 2, 0])\n",
            "tensor([2, 3, 0, 1])\n",
            "tensor([2, 2, 1, 3])\n",
            "tensor([1, 3, 0, 3])\n",
            "tensor([3, 1, 3, 3])\n",
            "tensor([3, 1, 1, 2])\n",
            "tensor([3, 3, 3, 3])\n",
            "tensor([0, 2, 2, 3])\n",
            "tensor([3, 3, 2, 2])\n",
            "tensor([3, 3, 2, 3])\n",
            "tensor([3, 2, 2, 3])\n",
            "tensor([2, 3, 1, 3])\n",
            "tensor([1, 1, 2, 1])\n",
            "tensor([3, 1, 3, 1])\n",
            "tensor([3, 3, 3, 3])\n",
            "tensor([1, 2, 1, 3])\n",
            "tensor([3, 3, 1, 2])\n",
            "tensor([1, 2, 1, 1])\n",
            "tensor([3, 3, 1, 1])\n",
            "tensor([2, 3, 3, 2])\n",
            "tensor([3, 2, 1, 0])\n",
            "tensor([3, 0, 3, 3])\n",
            "tensor([3, 2, 2, 2])\n",
            "tensor([2, 3, 1, 2])\n",
            "tensor([3, 2, 3, 3])\n",
            "tensor([3, 2, 2, 2])\n",
            "tensor([2, 3, 3, 3])\n",
            "tensor([1, 2, 3, 2])\n",
            "tensor([2, 2, 3, 2])\n",
            "tensor([3, 1, 1, 3])\n",
            "tensor([3, 1, 1, 1])\n",
            "tensor([1, 2, 2, 2])\n",
            "tensor([2, 2, 2, 3])\n",
            "tensor([1, 3, 2, 0])\n",
            "tensor([3, 1, 0, 1])\n",
            "tensor([1, 2, 2, 3])\n",
            "tensor([2, 0, 1, 3])\n",
            "tensor([2, 2, 2, 1])\n",
            "tensor([3, 2, 2, 3])\n",
            "tensor([3, 1, 0, 3])\n",
            "tensor([1, 1, 1, 3])\n",
            "tensor([0, 1, 3, 1])\n",
            "tensor([2, 3, 3, 3])\n",
            "tensor([2, 2, 3, 3])\n",
            "tensor([3, 2, 1, 3])\n",
            "tensor([2, 1, 1, 2])\n",
            "tensor([2, 1, 2, 1])\n",
            "tensor([2, 0, 3, 2])\n",
            "tensor([2, 2, 1, 2])\n",
            "tensor([3, 0, 3, 2])\n",
            "tensor([2, 3, 3, 3])\n",
            "tensor([3, 3, 2, 1])\n",
            "tensor([0, 2, 3, 1])\n",
            "tensor([3, 3, 1, 2])\n",
            "tensor([3, 1, 2, 3])\n",
            "tensor([3, 3, 2, 2])\n",
            "tensor([1, 0, 0, 1])\n",
            "tensor([3, 1, 1, 2])\n",
            "tensor([0, 1, 3, 3])\n",
            "tensor([0, 2, 2, 2])\n",
            "tensor([3, 1, 2, 1])\n",
            "tensor([3, 1, 3, 3])\n",
            "tensor([3, 3, 2, 3])\n",
            "tensor([2, 3, 3, 2])\n",
            "tensor([2, 3, 3, 1])\n",
            "tensor([2, 2, 1, 0])\n",
            "tensor([0, 3, 1, 3])\n",
            "tensor([3, 3, 1, 1])\n",
            "tensor([2, 1, 2, 2])\n",
            "tensor([2, 3, 2, 1])\n",
            "tensor([3, 2, 2, 2])\n",
            "tensor([1, 0, 3, 2])\n",
            "tensor([3, 1, 3, 2])\n",
            "tensor([2, 3, 1, 2])\n",
            "tensor([2, 3, 3, 0])\n",
            "tensor([3, 2, 3, 2])\n",
            "tensor([2, 2, 1, 3])\n",
            "tensor([2, 3, 2, 2])\n",
            "tensor([2, 1, 3, 3])\n",
            "tensor([0, 2, 2, 1])\n",
            "tensor([1, 1, 2, 1])\n",
            "tensor([2, 3, 2, 3])\n",
            "tensor([3, 3, 3, 3])\n",
            "tensor([3, 3, 0, 1])\n",
            "tensor([2, 1, 2, 1])\n",
            "tensor([2, 1, 3, 2])\n",
            "tensor([2, 2, 3, 2])\n",
            "tensor([3, 3, 2, 3])\n",
            "tensor([2, 3, 3, 2])\n",
            "tensor([0, 0, 1, 2])\n",
            "tensor([3, 3, 3, 2])\n",
            "tensor([3, 1, 0, 1])\n",
            "tensor([3, 2, 2, 3])\n",
            "tensor([1, 0, 1, 1])\n",
            "tensor([3, 3, 1, 2])\n",
            "tensor([3, 2, 2, 2])\n",
            "tensor([0, 2, 3, 3])\n",
            "tensor([3, 1, 2, 0])\n",
            "tensor([3, 2, 3, 3])\n",
            "tensor([1, 2, 0, 2])\n",
            "tensor([2, 2, 1, 3])\n",
            "tensor([1, 0, 1, 1])\n",
            "tensor([1, 3, 2, 3])\n",
            "tensor([1, 1, 1, 1])\n",
            "tensor([1, 0, 0, 0])\n",
            "tensor([1, 3, 0, 1])\n",
            "tensor([3, 0, 2, 2])\n",
            "tensor([2, 3, 2, 3])\n",
            "tensor([2, 2, 1, 3])\n",
            "tensor([3, 0, 1, 3])\n",
            "tensor([2, 2, 1, 3])\n",
            "tensor([1, 0, 1, 2])\n",
            "tensor([1, 1, 0, 3])\n",
            "tensor([0, 1, 2, 1])\n",
            "tensor([3, 2, 1, 0])\n",
            "tensor([3, 2, 0, 1])\n",
            "tensor([2, 3, 1, 3])\n",
            "tensor([3, 2, 3, 2])\n",
            "tensor([3, 2, 3, 3])\n",
            "tensor([3, 3, 1, 0])\n",
            "tensor([2, 1, 2, 1])\n",
            "tensor([2, 2, 3, 2])\n",
            "tensor([3, 3, 0, 3])\n",
            "tensor([1, 2, 3, 3])\n",
            "tensor([3, 0, 0, 3])\n",
            "tensor([2, 3, 1, 2])\n",
            "tensor([3, 3, 3, 2])\n",
            "tensor([3, 2, 3, 1])\n",
            "tensor([3, 3, 2, 2])\n",
            "tensor([0, 3, 1, 2])\n",
            "tensor([2, 3, 3, 2])\n",
            "tensor([3, 2, 1, 1])\n",
            "tensor([0, 3, 1, 3])\n",
            "tensor([2, 2, 3, 2])\n",
            "tensor([3, 3, 3, 3])\n",
            "tensor([1, 3, 3, 0])\n",
            "tensor([0, 2, 0, 2])\n",
            "tensor([1, 2, 2, 1])\n"
          ],
          "name": "stdout"
        },
        {
          "output_type": "error",
          "ename": "KeyboardInterrupt",
          "evalue": "ignored",
          "traceback": [
            "\u001b[0;31m---------------------------------------------------------------------------\u001b[0m",
            "\u001b[0;31mKeyboardInterrupt\u001b[0m                         Traceback (most recent call last)",
            "\u001b[0;32m<ipython-input-128-d8f0072a3f07>\u001b[0m in \u001b[0;36m<module>\u001b[0;34m()\u001b[0m\n\u001b[1;32m     10\u001b[0m     \u001b[0mprint\u001b[0m\u001b[0;34m(\u001b[0m\u001b[0mls\u001b[0m\u001b[0;34m)\u001b[0m\u001b[0;34m\u001b[0m\u001b[0;34m\u001b[0m\u001b[0m\n\u001b[1;32m     11\u001b[0m     \u001b[0;31m# forward + backward + optimize\u001b[0m\u001b[0;34m\u001b[0m\u001b[0;34m\u001b[0m\u001b[0;34m\u001b[0m\u001b[0m\n\u001b[0;32m---> 12\u001b[0;31m     \u001b[0moutputs\u001b[0m \u001b[0;34m=\u001b[0m \u001b[0mnet\u001b[0m\u001b[0;34m(\u001b[0m\u001b[0minputs\u001b[0m\u001b[0;34m)\u001b[0m\u001b[0;34m\u001b[0m\u001b[0;34m\u001b[0m\u001b[0m\n\u001b[0m\u001b[1;32m     13\u001b[0m     \u001b[0mloss\u001b[0m \u001b[0;34m=\u001b[0m \u001b[0mcriterion\u001b[0m\u001b[0;34m(\u001b[0m\u001b[0moutputs\u001b[0m\u001b[0;34m,\u001b[0m \u001b[0mls\u001b[0m\u001b[0;34m)\u001b[0m\u001b[0;34m\u001b[0m\u001b[0;34m\u001b[0m\u001b[0m\n\u001b[1;32m     14\u001b[0m     \u001b[0mloss\u001b[0m\u001b[0;34m.\u001b[0m\u001b[0mbackward\u001b[0m\u001b[0;34m(\u001b[0m\u001b[0;34m)\u001b[0m\u001b[0;34m\u001b[0m\u001b[0;34m\u001b[0m\u001b[0m\n",
            "\u001b[0;32m/usr/local/lib/python3.7/dist-packages/torch/nn/modules/module.py\u001b[0m in \u001b[0;36m_call_impl\u001b[0;34m(self, *input, **kwargs)\u001b[0m\n\u001b[1;32m    887\u001b[0m             \u001b[0mresult\u001b[0m \u001b[0;34m=\u001b[0m \u001b[0mself\u001b[0m\u001b[0;34m.\u001b[0m\u001b[0m_slow_forward\u001b[0m\u001b[0;34m(\u001b[0m\u001b[0;34m*\u001b[0m\u001b[0minput\u001b[0m\u001b[0;34m,\u001b[0m \u001b[0;34m**\u001b[0m\u001b[0mkwargs\u001b[0m\u001b[0;34m)\u001b[0m\u001b[0;34m\u001b[0m\u001b[0;34m\u001b[0m\u001b[0m\n\u001b[1;32m    888\u001b[0m         \u001b[0;32melse\u001b[0m\u001b[0;34m:\u001b[0m\u001b[0;34m\u001b[0m\u001b[0;34m\u001b[0m\u001b[0m\n\u001b[0;32m--> 889\u001b[0;31m             \u001b[0mresult\u001b[0m \u001b[0;34m=\u001b[0m \u001b[0mself\u001b[0m\u001b[0;34m.\u001b[0m\u001b[0mforward\u001b[0m\u001b[0;34m(\u001b[0m\u001b[0;34m*\u001b[0m\u001b[0minput\u001b[0m\u001b[0;34m,\u001b[0m \u001b[0;34m**\u001b[0m\u001b[0mkwargs\u001b[0m\u001b[0;34m)\u001b[0m\u001b[0;34m\u001b[0m\u001b[0;34m\u001b[0m\u001b[0m\n\u001b[0m\u001b[1;32m    890\u001b[0m         for hook in itertools.chain(\n\u001b[1;32m    891\u001b[0m                 \u001b[0m_global_forward_hooks\u001b[0m\u001b[0;34m.\u001b[0m\u001b[0mvalues\u001b[0m\u001b[0;34m(\u001b[0m\u001b[0;34m)\u001b[0m\u001b[0;34m,\u001b[0m\u001b[0;34m\u001b[0m\u001b[0;34m\u001b[0m\u001b[0m\n",
            "\u001b[0;32m<ipython-input-16-a541c1005fad>\u001b[0m in \u001b[0;36mforward\u001b[0;34m(self, x)\u001b[0m\n\u001b[1;32m     12\u001b[0m         \u001b[0mself\u001b[0m\u001b[0;34m.\u001b[0m\u001b[0mfc3\u001b[0m \u001b[0;34m=\u001b[0m \u001b[0mnn\u001b[0m\u001b[0;34m.\u001b[0m\u001b[0mLinear\u001b[0m\u001b[0;34m(\u001b[0m\u001b[0;36m84\u001b[0m\u001b[0;34m,\u001b[0m \u001b[0;36m10\u001b[0m\u001b[0;34m)\u001b[0m\u001b[0;34m\u001b[0m\u001b[0;34m\u001b[0m\u001b[0m\n\u001b[1;32m     13\u001b[0m     \u001b[0;32mdef\u001b[0m \u001b[0mforward\u001b[0m\u001b[0;34m(\u001b[0m\u001b[0mself\u001b[0m\u001b[0;34m,\u001b[0m \u001b[0mx\u001b[0m\u001b[0;34m)\u001b[0m\u001b[0;34m:\u001b[0m\u001b[0;34m\u001b[0m\u001b[0;34m\u001b[0m\u001b[0m\n\u001b[0;32m---> 14\u001b[0;31m         \u001b[0mx\u001b[0m \u001b[0;34m=\u001b[0m \u001b[0mself\u001b[0m\u001b[0;34m.\u001b[0m\u001b[0mpool\u001b[0m\u001b[0;34m(\u001b[0m\u001b[0mF\u001b[0m\u001b[0;34m.\u001b[0m\u001b[0mrelu\u001b[0m\u001b[0;34m(\u001b[0m\u001b[0mself\u001b[0m\u001b[0;34m.\u001b[0m\u001b[0mconv1\u001b[0m\u001b[0;34m(\u001b[0m\u001b[0mx\u001b[0m\u001b[0;34m)\u001b[0m\u001b[0;34m)\u001b[0m\u001b[0;34m)\u001b[0m\u001b[0;31m#30*30*6\u001b[0m\u001b[0;34m\u001b[0m\u001b[0;34m\u001b[0m\u001b[0m\n\u001b[0m\u001b[1;32m     15\u001b[0m         \u001b[0mx\u001b[0m \u001b[0;34m=\u001b[0m \u001b[0mself\u001b[0m\u001b[0;34m.\u001b[0m\u001b[0mpool\u001b[0m\u001b[0;34m(\u001b[0m\u001b[0mF\u001b[0m\u001b[0;34m.\u001b[0m\u001b[0mrelu\u001b[0m\u001b[0;34m(\u001b[0m\u001b[0mself\u001b[0m\u001b[0;34m.\u001b[0m\u001b[0mconv2\u001b[0m\u001b[0;34m(\u001b[0m\u001b[0mx\u001b[0m\u001b[0;34m)\u001b[0m\u001b[0;34m)\u001b[0m\u001b[0;34m)\u001b[0m\u001b[0;31m#13*13*16\u001b[0m\u001b[0;34m\u001b[0m\u001b[0;34m\u001b[0m\u001b[0m\n\u001b[1;32m     16\u001b[0m         \u001b[0mx\u001b[0m \u001b[0;34m=\u001b[0m \u001b[0mtorch\u001b[0m\u001b[0;34m.\u001b[0m\u001b[0mflatten\u001b[0m\u001b[0;34m(\u001b[0m\u001b[0mx\u001b[0m\u001b[0;34m,\u001b[0m \u001b[0;36m1\u001b[0m\u001b[0;34m)\u001b[0m \u001b[0;31m# flatten all dimensions except batch\u001b[0m\u001b[0;34m\u001b[0m\u001b[0;34m\u001b[0m\u001b[0m\n",
            "\u001b[0;32m/usr/local/lib/python3.7/dist-packages/torch/nn/modules/module.py\u001b[0m in \u001b[0;36m_call_impl\u001b[0;34m(self, *input, **kwargs)\u001b[0m\n\u001b[1;32m    887\u001b[0m             \u001b[0mresult\u001b[0m \u001b[0;34m=\u001b[0m \u001b[0mself\u001b[0m\u001b[0;34m.\u001b[0m\u001b[0m_slow_forward\u001b[0m\u001b[0;34m(\u001b[0m\u001b[0;34m*\u001b[0m\u001b[0minput\u001b[0m\u001b[0;34m,\u001b[0m \u001b[0;34m**\u001b[0m\u001b[0mkwargs\u001b[0m\u001b[0;34m)\u001b[0m\u001b[0;34m\u001b[0m\u001b[0;34m\u001b[0m\u001b[0m\n\u001b[1;32m    888\u001b[0m         \u001b[0;32melse\u001b[0m\u001b[0;34m:\u001b[0m\u001b[0;34m\u001b[0m\u001b[0;34m\u001b[0m\u001b[0m\n\u001b[0;32m--> 889\u001b[0;31m             \u001b[0mresult\u001b[0m \u001b[0;34m=\u001b[0m \u001b[0mself\u001b[0m\u001b[0;34m.\u001b[0m\u001b[0mforward\u001b[0m\u001b[0;34m(\u001b[0m\u001b[0;34m*\u001b[0m\u001b[0minput\u001b[0m\u001b[0;34m,\u001b[0m \u001b[0;34m**\u001b[0m\u001b[0mkwargs\u001b[0m\u001b[0;34m)\u001b[0m\u001b[0;34m\u001b[0m\u001b[0;34m\u001b[0m\u001b[0m\n\u001b[0m\u001b[1;32m    890\u001b[0m         for hook in itertools.chain(\n\u001b[1;32m    891\u001b[0m                 \u001b[0m_global_forward_hooks\u001b[0m\u001b[0;34m.\u001b[0m\u001b[0mvalues\u001b[0m\u001b[0;34m(\u001b[0m\u001b[0;34m)\u001b[0m\u001b[0;34m,\u001b[0m\u001b[0;34m\u001b[0m\u001b[0;34m\u001b[0m\u001b[0m\n",
            "\u001b[0;32m/usr/local/lib/python3.7/dist-packages/torch/nn/modules/conv.py\u001b[0m in \u001b[0;36mforward\u001b[0;34m(self, input)\u001b[0m\n\u001b[1;32m    397\u001b[0m \u001b[0;34m\u001b[0m\u001b[0m\n\u001b[1;32m    398\u001b[0m     \u001b[0;32mdef\u001b[0m \u001b[0mforward\u001b[0m\u001b[0;34m(\u001b[0m\u001b[0mself\u001b[0m\u001b[0;34m,\u001b[0m \u001b[0minput\u001b[0m\u001b[0;34m:\u001b[0m \u001b[0mTensor\u001b[0m\u001b[0;34m)\u001b[0m \u001b[0;34m->\u001b[0m \u001b[0mTensor\u001b[0m\u001b[0;34m:\u001b[0m\u001b[0;34m\u001b[0m\u001b[0;34m\u001b[0m\u001b[0m\n\u001b[0;32m--> 399\u001b[0;31m         \u001b[0;32mreturn\u001b[0m \u001b[0mself\u001b[0m\u001b[0;34m.\u001b[0m\u001b[0m_conv_forward\u001b[0m\u001b[0;34m(\u001b[0m\u001b[0minput\u001b[0m\u001b[0;34m,\u001b[0m \u001b[0mself\u001b[0m\u001b[0;34m.\u001b[0m\u001b[0mweight\u001b[0m\u001b[0;34m,\u001b[0m \u001b[0mself\u001b[0m\u001b[0;34m.\u001b[0m\u001b[0mbias\u001b[0m\u001b[0;34m)\u001b[0m\u001b[0;34m\u001b[0m\u001b[0;34m\u001b[0m\u001b[0m\n\u001b[0m\u001b[1;32m    400\u001b[0m \u001b[0;34m\u001b[0m\u001b[0m\n\u001b[1;32m    401\u001b[0m \u001b[0;32mclass\u001b[0m \u001b[0mConv3d\u001b[0m\u001b[0;34m(\u001b[0m\u001b[0m_ConvNd\u001b[0m\u001b[0;34m)\u001b[0m\u001b[0;34m:\u001b[0m\u001b[0;34m\u001b[0m\u001b[0;34m\u001b[0m\u001b[0m\n",
            "\u001b[0;32m/usr/local/lib/python3.7/dist-packages/torch/nn/modules/conv.py\u001b[0m in \u001b[0;36m_conv_forward\u001b[0;34m(self, input, weight, bias)\u001b[0m\n\u001b[1;32m    394\u001b[0m                             _pair(0), self.dilation, self.groups)\n\u001b[1;32m    395\u001b[0m         return F.conv2d(input, weight, bias, self.stride,\n\u001b[0;32m--> 396\u001b[0;31m                         self.padding, self.dilation, self.groups)\n\u001b[0m\u001b[1;32m    397\u001b[0m \u001b[0;34m\u001b[0m\u001b[0m\n\u001b[1;32m    398\u001b[0m     \u001b[0;32mdef\u001b[0m \u001b[0mforward\u001b[0m\u001b[0;34m(\u001b[0m\u001b[0mself\u001b[0m\u001b[0;34m,\u001b[0m \u001b[0minput\u001b[0m\u001b[0;34m:\u001b[0m \u001b[0mTensor\u001b[0m\u001b[0;34m)\u001b[0m \u001b[0;34m->\u001b[0m \u001b[0mTensor\u001b[0m\u001b[0;34m:\u001b[0m\u001b[0;34m\u001b[0m\u001b[0;34m\u001b[0m\u001b[0m\n",
            "\u001b[0;31mKeyboardInterrupt\u001b[0m: "
          ]
        }
      ]
    },
    {
      "cell_type": "code",
      "metadata": {
        "id": "fQbbMfkNjzEp"
      },
      "source": [
        "import random\n",
        "PATH = 'cifar_net.pth'\n",
        "torch.save(net.state_dict(), PATH)"
      ],
      "execution_count": null,
      "outputs": []
    },
    {
      "cell_type": "code",
      "metadata": {
        "colab": {
          "base_uri": "https://localhost:8080/"
        },
        "id": "Eo08kk7VWTdO",
        "outputId": "2698a7c0-8154-4dd7-c9bf-71aa6709b1f7"
      },
      "source": [
        "path = 'test'\n",
        "path_list = os.listdir(path)\n",
        "path_list.sort(key=lambda x:int(x[:-4]))\n",
        "print(path_list)\n",
        "#load image\n",
        "t_imgs = []\n",
        "def read_directory(directory_name):\n",
        "    for filename in path_list:\n",
        "        t_img = mpimg.imread(directory_name + \"/\" + filename)\n",
        "        t_imgs.append(t_img)\n",
        "read_directory(\"test\")"
      ],
      "execution_count": null,
      "outputs": [
        {
          "output_type": "stream",
          "text": [
            "['10001.png', '10002.png', '10003.png', '10004.png', '10005.png', '10006.png', '10007.png', '10008.png', '10009.png', '10010.png', '10011.png', '10012.png', '10013.png', '10014.png', '10015.png', '10016.png', '10017.png', '10018.png', '10019.png', '10020.png', '10021.png', '10022.png', '10023.png', '10024.png', '10025.png', '10026.png', '10027.png', '10028.png', '10029.png', '10030.png', '10031.png', '10032.png', '10033.png', '10034.png', '10035.png', '10036.png', '10037.png', '10038.png', '10039.png', '10040.png', '10041.png', '10042.png', '10043.png', '10044.png', '10045.png', '10046.png', '10047.png', '10048.png', '10049.png', '10050.png', '10051.png', '10052.png', '10053.png', '10054.png', '10055.png', '10056.png', '10057.png', '10058.png', '10059.png', '10060.png', '10061.png', '10062.png', '10063.png', '10064.png', '10065.png', '10066.png', '10067.png', '10068.png', '10069.png', '10070.png', '10071.png', '10072.png', '10073.png', '10074.png', '10075.png', '10076.png', '10077.png', '10078.png', '10079.png', '10080.png', '10081.png', '10082.png', '10083.png', '10084.png', '10085.png', '10086.png', '10087.png', '10088.png', '10089.png', '10090.png', '10091.png', '10092.png', '10093.png', '10094.png', '10095.png', '10096.png', '10097.png', '10098.png', '10099.png', '10100.png', '10101.png', '10102.png', '10103.png', '10104.png', '10105.png', '10106.png', '10107.png', '10108.png', '10109.png', '10110.png', '10111.png', '10112.png', '10113.png', '10114.png', '10115.png', '10116.png', '10117.png', '10118.png', '10119.png', '10120.png', '10121.png', '10122.png', '10123.png', '10124.png', '10125.png', '10126.png', '10127.png', '10128.png', '10129.png', '10130.png', '10131.png', '10132.png', '10133.png', '10134.png', '10135.png', '10136.png', '10137.png', '10138.png', '10139.png', '10140.png', '10141.png', '10142.png', '10143.png', '10144.png', '10145.png', '10146.png', '10147.png', '10148.png', '10149.png', '10150.png', '10151.png', '10152.png', '10153.png', '10154.png', '10155.png', '10156.png', '10157.png', '10158.png', '10159.png', '10160.png', '10161.png', '10162.png', '10163.png', '10164.png', '10165.png', '10166.png', '10167.png', '10168.png', '10169.png', '10170.png', '10171.png', '10172.png', '10173.png', '10174.png', '10175.png', '10176.png', '10177.png', '10178.png', '10179.png', '10180.png', '10181.png', '10182.png', '10183.png', '10184.png', '10185.png', '10186.png', '10187.png', '10188.png', '10189.png', '10190.png', '10191.png', '10192.png', '10193.png', '10194.png', '10195.png', '10196.png', '10197.png', '10198.png', '10199.png', '10200.png', '10201.png', '10202.png', '10203.png', '10204.png', '10205.png', '10206.png', '10207.png', '10208.png', '10209.png', '10210.png', '10211.png', '10212.png', '10213.png', '10214.png', '10215.png', '10216.png', '10217.png', '10218.png', '10219.png', '10220.png', '10221.png', '10222.png', '10223.png', '10224.png', '10225.png', '10226.png', '10227.png', '10228.png', '10229.png', '10230.png', '10231.png', '10232.png', '10233.png', '10234.png', '10235.png', '10236.png', '10237.png', '10238.png', '10239.png', '10240.png', '10241.png', '10242.png', '10243.png', '10244.png', '10245.png', '10246.png', '10247.png', '10248.png', '10249.png', '10250.png', '10251.png', '10252.png', '10253.png', '10254.png', '10255.png', '10256.png', '10257.png', '10258.png', '10259.png', '10260.png', '10261.png', '10262.png', '10263.png', '10264.png', '10265.png', '10266.png', '10267.png', '10268.png', '10269.png', '10270.png', '10271.png', '10272.png', '10273.png', '10274.png', '10275.png', '10276.png', '10277.png', '10278.png', '10279.png', '10280.png', '10281.png', '10282.png', '10283.png', '10284.png', '10285.png', '10286.png', '10287.png', '10288.png', '10289.png', '10290.png', '10291.png', '10292.png', '10293.png', '10294.png', '10295.png', '10296.png', '10297.png', '10298.png', '10299.png', '10300.png', '10301.png', '10302.png', '10303.png', '10304.png', '10305.png', '10306.png', '10307.png', '10308.png', '10309.png', '10310.png', '10311.png', '10312.png', '10313.png', '10314.png', '10315.png', '10316.png', '10317.png', '10318.png', '10319.png', '10320.png', '10321.png', '10322.png', '10323.png', '10324.png', '10325.png', '10326.png', '10327.png', '10328.png', '10329.png', '10330.png', '10331.png', '10332.png', '10333.png', '10334.png', '10335.png', '10336.png', '10337.png', '10338.png', '10339.png', '10340.png', '10341.png', '10342.png', '10343.png', '10344.png', '10345.png', '10346.png', '10347.png', '10348.png', '10349.png', '10350.png', '10351.png', '10352.png', '10353.png', '10354.png', '10355.png', '10356.png', '10357.png', '10358.png', '10359.png', '10360.png', '10361.png', '10362.png', '10363.png', '10364.png', '10365.png', '10366.png', '10367.png', '10368.png', '10369.png', '10370.png', '10371.png', '10372.png', '10373.png', '10374.png', '10375.png', '10376.png', '10377.png', '10378.png', '10379.png', '10380.png', '10381.png', '10382.png', '10383.png', '10384.png', '10385.png', '10386.png', '10387.png', '10388.png', '10389.png', '10390.png', '10391.png', '10392.png', '10393.png', '10394.png', '10395.png', '10396.png', '10397.png', '10398.png', '10399.png', '10400.png']\n"
          ],
          "name": "stdout"
        }
      ]
    },
    {
      "cell_type": "code",
      "metadata": {
        "colab": {
          "base_uri": "https://localhost:8080/"
        },
        "id": "Se-lVDCzjB-L",
        "outputId": "023c35b7-2c59-4794-9f40-2e8de4beac6d"
      },
      "source": [
        "print(np.shape(t_imgs))\n",
        "t_imgs=np.array(t_imgs)"
      ],
      "execution_count": null,
      "outputs": [
        {
          "output_type": "stream",
          "text": [
            "(400, 64, 64, 3)\n"
          ],
          "name": "stdout"
        }
      ]
    },
    {
      "cell_type": "code",
      "metadata": {
        "colab": {
          "base_uri": "https://localhost:8080/",
          "height": 303
        },
        "id": "ugBfpmbWiXuj",
        "outputId": "f95bd506-81e5-41a7-cd16-eb74f26990f2"
      },
      "source": [
        "#load data form npy file\n",
        "t = torch.empty(400,3,64,64)\n",
        "#normalization\n",
        "transform = transforms.Compose(\n",
        "  [transforms.ToTensor(),\n",
        "    transforms.Normalize((0.5, 0.5, 0.5), (0.5, 0.5, 0.5))])\n",
        "for i in range(400):\n",
        "  t_img = t_imgs[i,:,:,:]\n",
        "  t_img = transform(t_img)\n",
        "  t[i,:,:,:] = t_img\n"
      ],
      "execution_count": null,
      "outputs": [
        {
          "output_type": "stream",
          "text": [
            "Clipping input data to the valid range for imshow with RGB data ([0..1] for floats or [0..255] for integers).\n"
          ],
          "name": "stderr"
        },
        {
          "output_type": "execute_result",
          "data": {
            "text/plain": [
              "<matplotlib.image.AxesImage at 0x7fad30586b90>"
            ]
          },
          "metadata": {
            "tags": []
          },
          "execution_count": 16
        },
        {
          "output_type": "display_data",
          "data": {
            "image/png": "[encoded data removed]",
            "text/plain": [
              "<Figure size 432x288 with 1 Axes>"
            ]
          },
          "metadata": {
            "tags": [],
            "needs_background": "light"
          }
        }
      ]
    },
    {
      "cell_type": "code",
      "metadata": {
        "id": "7CFFqLYEk1Jn"
      },
      "source": [
        "PATH = 'cifar_net.pth'\n",
        "net = Net()\n",
        "net.load_state_dict(torch.load(PATH))\n",
        "outputs = net(t)\n",
        "_, predicted = torch.max(outputs, 1)"
      ],
      "execution_count": null,
      "outputs": []
    },
    {
      "cell_type": "code",
      "metadata": {
        "colab": {
          "base_uri": "https://localhost:8080/"
        },
        "id": "BJvVR2yTmqwY",
        "outputId": "62a462fe-f484-427b-bc26-deb668ec5b33"
      },
      "source": [
        "print(predicted.size())\n",
        "c = predicted.numpy()\n",
        "result = []\n",
        "for i in range(400):\n",
        "  if c[i] == 0:\n",
        "    result.append('Normal')\n",
        "  elif c[i] == 1:\n",
        "    result.append('Cancer')\n",
        "  elif c[i] == 2:\n",
        "    result.append('Immune')\n",
        "  elif c[i] == 3:\n",
        "    result.append('Connective')\n",
        "print(result)"
      ],
      "execution_count": null,
      "outputs": [
        {
          "output_type": "stream",
          "text": [
            "torch.Size([400])\n",
            "['Connective', 'Connective', 'Connective', 'Connective', 'Connective', 'Connective', 'Connective', 'Connective', 'Connective', 'Connective', 'Connective', 'Connective', 'Connective', 'Connective', 'Connective', 'Connective', 'Connective', 'Connective', 'Connective', 'Connective', 'Connective', 'Connective', 'Connective', 'Connective', 'Connective', 'Connective', 'Connective', 'Connective', 'Connective', 'Connective', 'Connective', 'Connective', 'Connective', 'Connective', 'Connective', 'Connective', 'Connective', 'Connective', 'Connective', 'Connective', 'Connective', 'Connective', 'Connective', 'Connective', 'Connective', 'Connective', 'Connective', 'Connective', 'Connective', 'Connective', 'Connective', 'Connective', 'Connective', 'Connective', 'Connective', 'Connective', 'Connective', 'Connective', 'Connective', 'Connective', 'Connective', 'Connective', 'Connective', 'Connective', 'Connective', 'Connective', 'Connective', 'Connective', 'Connective', 'Connective', 'Connective', 'Connective', 'Connective', 'Connective', 'Connective', 'Connective', 'Connective', 'Connective', 'Connective', 'Connective', 'Connective', 'Connective', 'Connective', 'Connective', 'Connective', 'Connective', 'Connective', 'Connective', 'Connective', 'Connective', 'Connective', 'Connective', 'Connective', 'Connective', 'Connective', 'Connective', 'Connective', 'Connective', 'Connective', 'Connective', 'Connective', 'Connective', 'Connective', 'Connective', 'Connective', 'Connective', 'Connective', 'Connective', 'Connective', 'Connective', 'Connective', 'Connective', 'Connective', 'Connective', 'Connective', 'Connective', 'Connective', 'Connective', 'Connective', 'Connective', 'Connective', 'Connective', 'Connective', 'Connective', 'Connective', 'Connective', 'Connective', 'Connective', 'Connective', 'Connective', 'Connective', 'Connective', 'Connective', 'Connective', 'Connective', 'Connective', 'Connective', 'Connective', 'Connective', 'Connective', 'Connective', 'Connective', 'Connective', 'Connective', 'Connective', 'Connective', 'Connective', 'Connective', 'Connective', 'Connective', 'Connective', 'Connective', 'Connective', 'Connective', 'Connective', 'Connective', 'Connective', 'Connective', 'Connective', 'Connective', 'Connective', 'Connective', 'Connective', 'Connective', 'Connective', 'Connective', 'Connective', 'Connective', 'Connective', 'Connective', 'Connective', 'Connective', 'Connective', 'Connective', 'Connective', 'Connective', 'Connective', 'Connective', 'Connective', 'Connective', 'Connective', 'Connective', 'Connective', 'Connective', 'Connective', 'Connective', 'Connective', 'Connective', 'Connective', 'Connective', 'Connective', 'Connective', 'Connective', 'Cancer', 'Connective', 'Connective', 'Connective', 'Connective', 'Cancer', 'Connective', 'Connective', 'Connective', 'Connective', 'Connective', 'Connective', 'Connective', 'Connective', 'Connective', 'Connective', 'Connective', 'Connective', 'Connective', 'Connective', 'Connective', 'Connective', 'Connective', 'Connective', 'Connective', 'Connective', 'Connective', 'Connective', 'Connective', 'Connective', 'Connective', 'Connective', 'Connective', 'Connective', 'Connective', 'Connective', 'Connective', 'Connective', 'Connective', 'Connective', 'Connective', 'Connective', 'Cancer', 'Connective', 'Connective', 'Connective', 'Connective', 'Connective', 'Connective', 'Connective', 'Connective', 'Connective', 'Connective', 'Connective', 'Connective', 'Connective', 'Connective', 'Connective', 'Connective', 'Cancer', 'Connective', 'Connective', 'Connective', 'Connective', 'Connective', 'Connective', 'Connective', 'Connective', 'Connective', 'Connective', 'Connective', 'Connective', 'Connective', 'Connective', 'Connective', 'Connective', 'Connective', 'Connective', 'Connective', 'Connective', 'Connective', 'Connective', 'Connective', 'Connective', 'Connective', 'Connective', 'Connective', 'Connective', 'Connective', 'Connective', 'Connective', 'Connective', 'Connective', 'Connective', 'Connective', 'Connective', 'Connective', 'Connective', 'Connective', 'Connective', 'Connective', 'Connective', 'Connective', 'Connective', 'Connective', 'Connective', 'Connective', 'Connective', 'Connective', 'Connective', 'Connective', 'Connective', 'Connective', 'Connective', 'Connective', 'Connective', 'Connective', 'Connective', 'Connective', 'Connective', 'Connective', 'Connective', 'Connective', 'Connective', 'Connective', 'Connective', 'Connective', 'Connective', 'Cancer', 'Connective', 'Connective', 'Connective', 'Connective', 'Connective', 'Connective', 'Connective', 'Connective', 'Connective', 'Connective', 'Connective', 'Connective', 'Connective', 'Connective', 'Connective', 'Cancer', 'Connective', 'Cancer', 'Cancer', 'Connective', 'Connective', 'Connective', 'Cancer', 'Connective', 'Connective', 'Connective', 'Connective', 'Connective', 'Connective', 'Connective', 'Connective', 'Connective', 'Connective', 'Cancer', 'Connective', 'Connective', 'Connective', 'Connective', 'Cancer', 'Connective', 'Connective', 'Connective', 'Connective', 'Connective', 'Connective', 'Connective', 'Connective', 'Connective', 'Connective', 'Connective', 'Connective', 'Connective', 'Connective', 'Connective', 'Connective', 'Connective', 'Connective', 'Cancer', 'Connective', 'Connective', 'Connective', 'Connective', 'Connective', 'Connective', 'Connective', 'Connective', 'Connective', 'Connective', 'Connective', 'Connective', 'Connective', 'Connective', 'Connective', 'Connective', 'Connective', 'Connective', 'Connective', 'Connective']\n"
          ],
          "name": "stdout"
        }
      ]
    },
    {
      "cell_type": "code",
      "metadata": {
        "id": "tLpqdaETrQco"
      },
      "source": [
        "p = r'example.csv'\n",
        "with open(p,encoding = 'utf-8') as f:\n",
        "    data = np.loadtxt(f,str,delimiter = \",\")\n",
        "data = data.tolist()\n",
        "for i in range(400):\n",
        "  data[i+1][1] = result[i]\n",
        "data = np.array(data)\n",
        "np.savetxt('test.csv', data, delimiter=',',fmt = '%s')"
      ],
      "execution_count": null,
      "outputs": []
    },
    {
      "cell_type": "code",
      "metadata": {
        "id": "BuXEq6Hny3OP"
      },
      "source": [
        "class Net(nn.Module):\n",
        "    def __init__(self):\n",
        "        super().__init__()\n",
        "        self.conv1 = nn.Conv2d(3, 6, 5)\n",
        "        self.pool = nn.MaxPool2d(2, 2)\n",
        "        self.conv2 = nn.Conv2d(6, 16, 5)\n",
        "        self.fc1 = nn.Linear(16 * 13 * 13, 120)\n",
        "        self.fc2 = nn.Linear(120, 84)\n",
        "        self.fc3 = nn.Linear(84, 10)\n",
        "    def forward(self, x):\n",
        "        x = self.pool(F.relu(self.conv1(x)))#30*30*6\n",
        "        x = self.pool(F.relu(self.conv2(x)))#13*13*16\n",
        "        x = torch.flatten(x, 1) # flatten all dimensions except batch\n",
        "        x = F.relu(self.fc1(x))\n",
        "        x = F.relu(self.fc2(x))\n",
        "        x = self.fc3(x)\n",
        "        return x\n",
        "\n",
        "net = Net()"
      ],
      "execution_count": null,
      "outputs": []
    },
    {
      "cell_type": "markdown",
      "metadata": {
        "id": "Cx-4YtHMiWN7"
      },
      "source": [
        ""
      ]
    },
    {
      "cell_type": "markdown",
      "metadata": {
        "id": "_BmUMXNIh9Bh"
      },
      "source": [
        ""
      ]
    }
  ]
}